{
 "cells": [
  {
   "cell_type": "code",
   "execution_count": 1,
   "metadata": {},
   "outputs": [],
   "source": [
    "import numpy as np\n",
    "import pandas as pd"
   ]
  },
  {
   "cell_type": "code",
   "execution_count": 2,
   "metadata": {},
   "outputs": [
    {
     "name": "stdout",
     "output_type": "stream",
     "text": [
      "6575\n",
      "6192\n",
      "5941\n",
      "6358\n",
      "6171\n",
      "5058\n",
      "6108\n",
      "6144\n"
     ]
    }
   ],
   "source": [
    "catboost = pd.read_csv('PostProcess/E-Sun_Credit_Card_Fraud_Detection_submission_catboost_16.csv')\n",
    "print(len(catboost[catboost['fraud_ind']==1]))\n",
    "\n",
    "xgboost = pd.read_csv('PostProcess/E-Sun_Credit_Card_Fraud_Detection_xgboost_7.csv')\n",
    "print(len(xgboost[xgboost['fraud_ind']==1]))\n",
    "\n",
    "lightgbm_kaggle = pd.read_csv('PostProcess/E-Sun_Credit_Card_Fraud_Detection_submission_lightgbm_vote.csv')\n",
    "print(len(lightgbm_kaggle[lightgbm_kaggle['fraud_ind']==1]))\n",
    "\n",
    "lightgbm_jeff = pd.read_csv('PostProcess/E-Sun_Credit_Card_Fraud_Detection_submission_Jeff_672959.csv')\n",
    "print(len(lightgbm_jeff[lightgbm_jeff['fraud_ind']==1]))\n",
    "\n",
    "lightgbm_spw = pd.read_csv('PostProcess/E-Sun_Credit_Card_Fraud_Detection_submission_lightgbm_scale_pos_weight_vote.csv')\n",
    "print(len(lightgbm_spw[lightgbm_spw['fraud_ind']==1]))\n",
    "\n",
    "lightgbm_dae = pd.read_csv('PostProcess/E-Sun_Credit_Card_Fraud_Detection_submission_V.csv')\n",
    "print(len(lightgbm_dae[lightgbm_dae['fraud_ind']==1]))\n",
    "\n",
    "lightgbm_V9 = pd.read_csv('PostProcess/E-Sun_Credit_Card_Fraud_Detection_submission_lightgbm_V9.csv')\n",
    "print(len(lightgbm_V9[lightgbm_V9['fraud_ind']==1]))\n",
    "\n",
    "NN = pd.read_csv('PostProcess/E-Sun_Credit_Card_Fraud_Detection_submission_NN2.csv')\n",
    "NN['fraud_ind'] = (NN.fraud_ind > 0.4).astype(int)\n",
    "print(len(NN[NN['fraud_ind']==1]))"
   ]
  },
  {
   "cell_type": "code",
   "execution_count": 3,
   "metadata": {},
   "outputs": [
    {
     "name": "stdout",
     "output_type": "stream",
     "text": [
      "0.0    414224\n",
      "3.0      4508\n",
      "1.0       893\n",
      "2.5       660\n",
      "1.5       642\n",
      "0.5       395\n",
      "2.0       343\n",
      "Name: fraud_ind, dtype: int64\n",
      "--------------------------------------------------------------\n",
      "0    414619\n",
      "1      7046\n",
      "Name: fraud_ind, dtype: int64\n"
     ]
    }
   ],
   "source": [
    "sub = lightgbm_kaggle.copy()\n",
    "#sub.fraud_ind = lightgbm_V9.fraud_ind + lightgbm_jeff.fraud_ind + lightgbm_dae.fraud_ind#*0.5 + lightgbm_spw.fraud_ind*0.5\n",
    "sub.fraud_ind = lightgbm_kaggle.fraud_ind + lightgbm_jeff.fraud_ind  + lightgbm_spw.fraud_ind*.5 + lightgbm_dae.fraud_ind*.5\n",
    "#sub.fraud_ind = lightgbm_kaggle.fraud_ind + lightgbm_jeff.fraud_ind  + lightgbm_dae.fraud_ind\n",
    "print(sub['fraud_ind'].value_counts())\n",
    "\n",
    "print('--------------------------------------------------------------')\n",
    "sub['fraud_ind'] = np.where(sub['fraud_ind']>=1, 1, 0)\n",
    "print(sub['fraud_ind'].value_counts())"
   ]
  },
  {
   "cell_type": "code",
   "execution_count": 4,
   "metadata": {},
   "outputs": [
    {
     "data": {
      "text/plain": [
       "array([[1.        , 0.8211959 , 0.90094738, 0.71369207],\n",
       "       [0.8211959 , 1.        , 0.82995266, 0.72655034],\n",
       "       [0.90094738, 0.82995266, 1.        , 0.69792134],\n",
       "       [0.71369207, 0.72655034, 0.69792134, 1.        ]])"
      ]
     },
     "execution_count": 4,
     "metadata": {},
     "output_type": "execute_result"
    }
   ],
   "source": [
    "df = np.array([sub.fraud_ind, catboost.fraud_ind, xgboost.fraud_ind, NN.fraud_ind])\n",
    "\n",
    "np.corrcoef(df)"
   ]
  },
  {
   "cell_type": "code",
   "execution_count": 5,
   "metadata": {},
   "outputs": [],
   "source": [
    "bakup = sub.copy()"
   ]
  },
  {
   "cell_type": "code",
   "execution_count": 6,
   "metadata": {},
   "outputs": [],
   "source": [
    "sub.fraud_ind = sub.fraud_ind + catboost.fraud_ind*.2 + xgboost.fraud_ind*.3 + NN.fraud_ind*.1"
   ]
  },
  {
   "cell_type": "code",
   "execution_count": 7,
   "metadata": {},
   "outputs": [
    {
     "name": "stdout",
     "output_type": "stream",
     "text": [
      "0.0    412401\n",
      "1.6      4113\n",
      "1.5      1129\n",
      "0.1      1091\n",
      "1.3       764\n",
      "0.2       613\n",
      "1.0       499\n",
      "0.3       283\n",
      "1.1       219\n",
      "1.4       174\n",
      "1.2       148\n",
      "0.3       145\n",
      "0.5        41\n",
      "0.6        29\n",
      "0.4        16\n",
      "Name: fraud_ind, dtype: int64\n"
     ]
    }
   ],
   "source": [
    "print(sub['fraud_ind'].value_counts())"
   ]
  },
  {
   "cell_type": "code",
   "execution_count": 8,
   "metadata": {},
   "outputs": [
    {
     "data": {
      "image/png": "[encoded data removed]",
      "text/plain": [
       "<Figure size 432x288 with 1 Axes>"
      ]
     },
     "metadata": {
      "needs_background": "light"
     },
     "output_type": "display_data"
    }
   ],
   "source": [
    "import matplotlib\n",
    "import matplotlib.pyplot as plt\n",
    "%matplotlib inline\n",
    "\n",
    "plt.hist(sub['fraud_ind'],bins=100)\n",
    "plt.ylim((0,5000))\n",
    "plt.title('PP Submission')\n",
    "plt.show()"
   ]
  },
  {
   "cell_type": "code",
   "execution_count": 9,
   "metadata": {},
   "outputs": [
    {
     "name": "stdout",
     "output_type": "stream",
     "text": [
      "7075\n"
     ]
    }
   ],
   "source": [
    "print(len(sub[sub['fraud_ind']>=.55]))\n",
    "sub['fraud_ind'] = (sub.fraud_ind >= .55).astype(int)"
   ]
  },
  {
   "cell_type": "code",
   "execution_count": 11,
   "metadata": {},
   "outputs": [],
   "source": [
    "sub.to_csv('E-Sun_Credit_Card_Fraud_Detection_submission_PostProcess.csv')"
   ]
  }
 ],
 "metadata": {
  "kernelspec": {
   "display_name": "Python 3",
   "language": "python",
   "name": "python3"
  },
  "language_info": {
   "codemirror_mode": {
    "name": "ipython",
    "version": 3
   },
   "file_extension": ".py",
   "mimetype": "text/x-python",
   "name": "python",
   "nbconvert_exporter": "python",
   "pygments_lexer": "ipython3",
   "version": "3.7.5"
  }
 },
 "nbformat": 4,
 "nbformat_minor": 2
}
