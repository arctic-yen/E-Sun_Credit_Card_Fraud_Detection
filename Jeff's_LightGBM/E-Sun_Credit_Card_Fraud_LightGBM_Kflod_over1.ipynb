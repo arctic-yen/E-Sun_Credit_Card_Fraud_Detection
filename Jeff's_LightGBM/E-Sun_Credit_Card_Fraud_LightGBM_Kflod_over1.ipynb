{
 "cells": [
  {
   "cell_type": "code",
   "execution_count": 1,
   "metadata": {},
   "outputs": [],
   "source": [
    "import numpy as np\n",
    "import pandas as pd\n",
    "import re\n",
    "import matplotlib\n",
    "import matplotlib.pyplot as plt\n",
    "%matplotlib inline\n",
    "import seaborn as sns\n",
    "sns.set(font_scale=1.56)\n",
    "import gc\n",
    "\n",
    "import os, sys, random, math\n",
    "\n",
    "import warnings\n",
    "warnings.filterwarnings('ignore')\n",
    "\n",
    "from scipy import stats\n",
    "from scipy.stats import norm\n",
    "\n",
    "from sklearn import preprocessing\n",
    "from sklearn.model_selection import KFold, GroupKFold, train_test_split\n",
    "from sklearn.metrics import f1_score, roc_auc_score\n",
    "from sklearn.metrics import f1_score, roc_auc_score, recall_score, precision_score, confusion_matrix\n",
    "\n",
    "import lightgbm as lgb"
   ]
  },
  {
   "cell_type": "code",
   "execution_count": 2,
   "metadata": {},
   "outputs": [],
   "source": [
    "def seed_everything(seed=0):\n",
    "    random.seed(seed)\n",
    "    os.environ['PYTHONHASHSEED'] = str(seed)\n",
    "    np.random.seed(seed)"
   ]
  },
  {
   "cell_type": "code",
   "execution_count": 3,
   "metadata": {},
   "outputs": [
    {
     "name": "stdout",
     "output_type": "stream",
     "text": [
      "Loading data...\n",
      "\tSuccessfully loaded train_identity!\n",
      "\tSuccessfully loaded test_identity!\n",
      "\tSuccessfully loaded train_identity!\n",
      "Data was successfully loaded!\n",
      "\n",
      "Wall time: 6.84 s\n"
     ]
    }
   ],
   "source": [
    "%%time\n",
    "\n",
    "print('Loading data...')\n",
    "\n",
    "train = pd.read_csv('C:\\\\Users\\\\洪廷奇\\\\Desktop\\\\E-Sun_Credit_Card_Fraud_EDA/train.csv', index_col='txkey')\n",
    "print('\\tSuccessfully loaded train_identity!')\n",
    "\n",
    "test = pd.read_csv('C:\\\\Users\\\\洪廷奇\\\\Desktop\\\\E-Sun_Credit_Card_Fraud_EDA/test.csv', index_col='txkey')\n",
    "print('\\tSuccessfully loaded test_identity!')\n",
    "\n",
    "fruad = pd.read_csv('C:\\\\Users\\\\洪廷奇\\\\Desktop\\\\E-Sun_Credit_Card_Fraud_EDA/fruad.csv', index_col='txkey')\n",
    "print('\\tSuccessfully loaded train_identity!')\n",
    "\n",
    "\n",
    "print('Data was successfully loaded!\\n')"
   ]
  },
  {
   "cell_type": "code",
   "execution_count": 4,
   "metadata": {},
   "outputs": [],
   "source": [
    "train['flbmk'] = train['flbmk'].fillna('Nan')\n",
    "train['flg_3dsmk'] = train['flg_3dsmk'].fillna('Nan')\n",
    "\n",
    "test['flbmk'] = test['flbmk'].fillna('Nan')\n",
    "test['flg_3dsmk'] = test['flg_3dsmk'].fillna('Nan')"
   ]
  },
  {
   "cell_type": "code",
   "execution_count": 5,
   "metadata": {},
   "outputs": [
    {
     "data": {
      "text/plain": [
       "Series([], dtype: int64)"
      ]
     },
     "execution_count": 5,
     "metadata": {},
     "output_type": "execute_result"
    }
   ],
   "source": [
    "check_null_train = train.isnull().sum()\n",
    "check_null_train[check_null_train>0].sort_values(ascending=False)"
   ]
  },
  {
   "cell_type": "code",
   "execution_count": 6,
   "metadata": {},
   "outputs": [
    {
     "data": {
      "text/plain": [
       "Series([], dtype: int64)"
      ]
     },
     "execution_count": 6,
     "metadata": {},
     "output_type": "execute_result"
    }
   ],
   "source": [
    "check_null_test = test.isnull().sum()\n",
    "check_null_test[check_null_test>0].sort_values(ascending=False)"
   ]
  },
  {
   "cell_type": "code",
   "execution_count": 7,
   "metadata": {},
   "outputs": [],
   "source": [
    "def data_split(dataframe):\n",
    "    \n",
    "    dataframe['ecfg'] = dataframe['ecfg'].map({'Y':1, 'N':0})\n",
    "    dataframe['ovrlt'] = dataframe['ovrlt'].map({'Y':1, 'N':0})\n",
    "    dataframe['flbmk'] = dataframe['flbmk'].map({'Y':2, 'N':1, 'Nan':0})\n",
    "    dataframe['flg_3dsmk'] = dataframe['flg_3dsmk'].map({'Y':2, 'N':1, 'Nan':0})\n",
    "    dataframe['insfg'] = dataframe['insfg'].map({'Y':1, 'N':0})\n",
    "    dataframe['locdt_M'] = dataframe['locdt'].map({1:1,2:1,3:1,4:1,5:1,6:1,7:1,8:1,9:1,10:1,11:1,12:1,13:1,14:1,15:1,\n",
    "                                                   16:1,17:1,18:1,19:1,20:1,21:1,22:1,23:1,24:1,25:1,26:1,27:1,28:1,29:1,30:1,31:1,\n",
    "                                                   32:2,33:2,34:2,35:2,36:2,37:2,38:2,39:2,40:2,41:2,42:2,43:2,44:2,45:2,\n",
    "                                                   46:2,47:2,48:2,49:2,50:2,51:2,52:2,53:2,54:2,55:2,56:2,57:2,58:2,59:2,60:2,61:2,\n",
    "                                                   62:3,63:3,64:3,65:3,66:3,67:3,68:3,69:3,70:3,71:3,72:3,73:3,74:3,75:3,\n",
    "                                                   76:3,77:3,78:3,79:3,80:3,81:3,82:3,83:3,84:3,85:3,86:3,87:3,88:3,89:3,90:3,91:3,92:3,\n",
    "                                                   93:4,94:4,95:4,96:4,97:4,98:4,99:4,100:4,101:4,102:4,103:4,104:4,105:4,106:4,107:4,\n",
    "                                                   108:4,109:4,110:4,111:4,112:4,113:4,114:4,115:4,116:4,117:4,118:4,119:4,120:4})\n",
    "    gc.collect()\n",
    "    \n",
    "    return dataframe"
   ]
  },
  {
   "cell_type": "code",
   "execution_count": 8,
   "metadata": {},
   "outputs": [],
   "source": [
    "train = data_split(train)\n",
    "test = data_split(test)"
   ]
  },
  {
   "cell_type": "code",
   "execution_count": 9,
   "metadata": {},
   "outputs": [],
   "source": [
    "train['txn_info'] = train['flg_3dsmk'].astype(str)+train['flbmk'].astype(str)+train['stscd'].astype(str)+train['ovrlt'].astype(str)\n",
    "test['txn_info'] = test['flg_3dsmk'].astype(str)+test['flbmk'].astype(str)+test['stscd'].astype(str)+test['ovrlt'].astype(str)\n",
    "fruad['txn_info'] = fruad['flg_3dsmk'].astype(str)+fruad['flbmk'].astype(str)+fruad['stscd'].astype(str)+fruad['ovrlt'].astype(str)"
   ]
  },
  {
   "cell_type": "code",
   "execution_count": 10,
   "metadata": {},
   "outputs": [],
   "source": [
    "RiskCountry = [104, 75]\n",
    "train['HighRiskCountry'] = train['stocn'].apply(lambda x: 1 if x in RiskCountry else 0)\n",
    "test['HighRiskCountry'] = test['stocn'].apply(lambda x: 1 if x in RiskCountry else 0)"
   ]
  },
  {
   "cell_type": "code",
   "execution_count": 11,
   "metadata": {},
   "outputs": [],
   "source": [
    "RiskCurrency = [60, 61]\n",
    "train['HighRiskCurrency'] = train['csmcu'].apply(lambda x: 1 if x in RiskCurrency else 0)\n",
    "test['HighRiskCurrency'] = test['csmcu'].apply(lambda x: 1 if x in RiskCurrency else 0)"
   ]
  },
  {
   "cell_type": "code",
   "execution_count": 12,
   "metadata": {},
   "outputs": [],
   "source": [
    "train['HighRiskFlag'] = train['HighRiskCountry'].astype(str)+train['HighRiskCurrency'].astype(str)\n",
    "test['HighRiskFlag'] = test['HighRiskCountry'].astype(str)+test['HighRiskCurrency'].astype(str)"
   ]
  },
  {
   "cell_type": "code",
   "execution_count": 13,
   "metadata": {},
   "outputs": [],
   "source": [
    "train['conam_decimal'] = ((train['conam'] - train['conam'].astype(int)) * 1000).astype(int)\n",
    "test['conam_decimal'] = ((test['conam'] - test['conam'].astype(int)) * 1000).astype(int)"
   ]
  },
  {
   "cell_type": "code",
   "execution_count": 14,
   "metadata": {},
   "outputs": [],
   "source": [
    "train['HighRiskLowerAmount'] = 0\n",
    "test['HighRiskLowerAmount'] = 0\n",
    "\n",
    "train['HighRiskLowerAmount'] = train['conam'] < 201\n",
    "test['HighRiskLowerAmount'] = test['conam'] < 201\n",
    "\n",
    "train['HighRiskLowerAmount'] = train['HighRiskLowerAmount'].map({True:1, False:0})\n",
    "test['HighRiskLowerAmount'] = test['HighRiskLowerAmount'].map({True:1, False:0})"
   ]
  },
  {
   "cell_type": "code",
   "execution_count": 15,
   "metadata": {},
   "outputs": [],
   "source": [
    "train['HighRiskHigherAmount'] = 0\n",
    "test['HighRiskHigherAmount'] = 0\n",
    "\n",
    "train['HighRiskHigherAmount'] = train['conam'] > 999\n",
    "test['HighRiskHigherAmount'] = test['conam'] > 999\n",
    "\n",
    "train['HighRiskHigherAmount'] = train['HighRiskHigherAmount'].map({True:1, False:0})\n",
    "test['HighRiskHigherAmount'] = test['HighRiskHigherAmount'].map({True:1, False:0})"
   ]
  },
  {
   "cell_type": "code",
   "execution_count": 16,
   "metadata": {},
   "outputs": [],
   "source": [
    "train['loct_hour'] = train['loctm']//10000\n",
    "test['loct_hour'] = test['loctm']//10000\n",
    "fruad['loct_hour'] = fruad['loctm']//10000"
   ]
  },
  {
   "cell_type": "code",
   "execution_count": 17,
   "metadata": {},
   "outputs": [],
   "source": [
    "for col in ['locdt','txn_info']: #'locdt_M'\n",
    "    temp_df = pd.concat([train[[col]], test[[col]]])\n",
    "    fq_encode = temp_df[col].value_counts().to_dict()\n",
    "            \n",
    "    train[col+'_total'] = train[col].map(fq_encode)\n",
    "    test[col+'_total']  = test[col].map(fq_encode)"
   ]
  },
  {
   "cell_type": "code",
   "execution_count": 18,
   "metadata": {},
   "outputs": [],
   "source": [
    "# simply aggregations no logic\n",
    "train['conam_to_mean_cano'] = train['conam'] / train.groupby(['cano'])['conam'].transform('mean')\n",
    "train['conam_to_mean_bacno'] = train['conam'] / train.groupby(['bacno'])['conam'].transform('mean')\n",
    "test['conam_to_mean_cano'] = test['conam'] / test.groupby(['cano'])['conam'].transform('mean')\n",
    "test['conam_to_mean_bacno'] = test['conam'] / test.groupby(['bacno'])['conam'].transform('mean')\n",
    "\n",
    "train['conam_to_std_cano'] = train['conam'] / train.groupby(['cano'])['conam'].transform('std')\n",
    "train['conam_to_std_bacno'] = train['conam'] / train.groupby(['bacno'])['conam'].transform('std')\n",
    "test['conam_to_std_cano'] = test['conam'] / test.groupby(['cano'])['conam'].transform('std')\n",
    "test['conam_to_std_bacno'] = test['conam'] / test.groupby(['bacno'])['conam'].transform('std')\n",
    "\n",
    "train['conam_to_mean_mchno'] = train['conam'] / train.groupby(['mchno'])['conam'].transform('mean')\n",
    "train['conam_to_mean_mcc'] = train['conam'] / train.groupby(['mcc'])['conam'].transform('mean')\n",
    "train['conam_to_mean_hcefg'] = train['conam'] / train.groupby(['hcefg'])['conam'].transform('mean')\n",
    "test['conam_to_mean_mchno'] = test['conam'] / test.groupby(['mchno'])['conam'].transform('mean')\n",
    "test['conam_to_mean_mcc'] = test['conam'] / test.groupby(['mcc'])['conam'].transform('mean')\n",
    "test['conam_to_mean_hcefg'] = test['conam'] / test.groupby(['hcefg'])['conam'].transform('mean')\n",
    "\n",
    "train['conam_to_std_mchno'] = train['conam'] / train.groupby(['mchno'])['conam'].transform('std')\n",
    "train['conam_to_std_mcc'] = train['conam'] / train.groupby(['mcc'])['conam'].transform('std')\n",
    "train['conam_to_std_hcefg'] = train['conam'] / train.groupby(['hcefg'])['conam'].transform('std')\n",
    "test['conam_to_std_mchno'] = test['conam'] / test.groupby(['mchno'])['conam'].transform('std')\n",
    "test['conam_to_std_mcc'] = test['conam'] / test.groupby(['mcc'])['conam'].transform('std')\n",
    "test['conam_to_std_hcefg'] = test['conam'] / test.groupby(['hcefg'])['conam'].transform('std')\n",
    "\n",
    "train['conam_to_mean_acqic'] = train['conam'] / train.groupby(['acqic'])['conam'].transform('mean')\n",
    "test['conam_to_mean_acqic'] = test['conam'] / test.groupby(['acqic'])['conam'].transform('mean')\n",
    "\n",
    "train['conam_to_std_acqic'] = train['conam'] / train.groupby(['acqic'])['conam'].transform('std')\n",
    "test['conam_to_std_acqic'] = test['conam'] / test.groupby(['acqic'])['conam'].transform('std')"
   ]
  },
  {
   "cell_type": "code",
   "execution_count": 19,
   "metadata": {},
   "outputs": [],
   "source": [
    "# check amount\n",
    "train['conam_check'] = np.where(train['conam'].isin(test['conam']), 1, 0)\n",
    "test['conam_check']  = np.where(test['conam'].isin(train['conam']), 1, 0)"
   ]
  },
  {
   "cell_type": "code",
   "execution_count": 20,
   "metadata": {},
   "outputs": [],
   "source": [
    "# check cano\n",
    "train['cano_check'] = np.where(train['cano'].isin(test['cano']), 1, 0)\n",
    "test['cano_check']  = np.where(test['cano'].isin(train['cano']), 1, 0)"
   ]
  },
  {
   "cell_type": "code",
   "execution_count": 21,
   "metadata": {},
   "outputs": [],
   "source": [
    "train['fruad_check'] = train['cano'].astype(str)+'_'+train['acqic'].astype(str)+'_'+train['mchno'].astype(str)+'_'+train['mcc'].astype(str)+'_'+train['csmcu'].astype(str)\n",
    "test['fruad_check'] = test['cano'].astype(str)+'_'+test['acqic'].astype(str)+'_'+test['mchno'].astype(str)+'_'+test['mcc'].astype(str)+'_'+test['csmcu'].astype(str)\n",
    "fruad['fruad_check'] = fruad['cano'].astype(str)+'_'+fruad['acqic'].astype(str)+'_'+fruad['mchno'].astype(str)+'_'+fruad['mcc'].astype(str)+'_'+fruad['csmcu'].astype(str)"
   ]
  },
  {
   "cell_type": "code",
   "execution_count": 22,
   "metadata": {},
   "outputs": [],
   "source": [
    "#train['fruad_check'] = train['mchno'].astype(str)\n",
    "#test['fruad_check'] = train['mchno'].astype(str)\n",
    "#fruad['fruad_check'] = fruad['mchno'].astype(str)"
   ]
  },
  {
   "cell_type": "code",
   "execution_count": 23,
   "metadata": {},
   "outputs": [],
   "source": [
    "train['HighRiskCano'] = np.where(train['fruad_check'].isin(fruad['fruad_check']), 1, 0)\n",
    "test['HighRiskCano'] = np.where(test['fruad_check'].isin(fruad['fruad_check']), 1, 0)"
   ]
  },
  {
   "cell_type": "code",
   "execution_count": 24,
   "metadata": {},
   "outputs": [],
   "source": [
    "train['uid'] = train['cano'].astype(str)+'_'+train['bacno'].astype(str)\n",
    "test['uid'] = test['cano'].astype(str)+'_'+test['bacno'].astype(str)\n",
    "\n",
    "train['uid2'] = train['uid'].astype(str)+'_'+train['acqic'].astype(str)\n",
    "test['uid2'] = test['uid'].astype(str)+'_'+test['acqic'].astype(str)\n",
    "\n",
    "train['uid3'] = train['uid2'].astype(str)+'_'+train['mchno'].astype(str)+'_'+train['mcc'].astype(str)\n",
    "test['uid3'] = test['uid2'].astype(str)+'_'+test['mchno'].astype(str)+'_'+test['mcc'].astype(str)\n",
    "\n",
    "train['uid4'] = train['uid'].astype(str)+'_'+train['stocn'].astype(str)+'_'+train['scity'].astype(str)+'_'+train['csmcu'].astype(str)\n",
    "test['uid4'] = test['uid'].astype(str)+'_'+test['stocn'].astype(str)+'_'+test['scity'].astype(str)+'_'+test['csmcu'].astype(str)\n",
    "\n",
    "\n",
    "#train['uid5'] = train['mchno'].astype(str)+'_'+train['scity'].astype(str)+'_'+train['mcc'].astype(str)\n",
    "#test['uid5'] = test['mchno'].astype(str)+'_'+test['scity'].astype(str)+'_'+test['mcc'].astype(str)\n",
    "\n",
    "#train['uid4'] = train['uid'].astype(str)+'_'+train['stocn'].astype(str)+'_'+train['csmcu'].astype(str)\n",
    "#test['uid4'] = test['uid'].astype(str)+'_'+test['stocn'].astype(str)+'_'+test['csmcu'].astype(str)"
   ]
  },
  {
   "cell_type": "code",
   "execution_count": 25,
   "metadata": {},
   "outputs": [],
   "source": [
    "periods = ['locdt','txn_info'] #'locdt_M'\n",
    "i_cols = ['uid']\n",
    "for period in periods:\n",
    "    for col in i_cols:\n",
    "        new_column = col + '_' + period\n",
    "            \n",
    "        temp_df = pd.concat([train[[col,period]], test[[col,period]]])\n",
    "        temp_df[new_column] = temp_df[col].astype(str) + '_' + (temp_df[period]).astype(str)\n",
    "        fq_encode = temp_df[new_column].value_counts().to_dict()\n",
    "            \n",
    "        train[new_column] = (train[col].astype(str) + '_' + train[period].astype(str)).map(fq_encode)\n",
    "        test[new_column]  = (test[col].astype(str) + '_' + test[period].astype(str)).map(fq_encode)\n",
    "        \n",
    "        train[new_column] /= train[period+'_total']\n",
    "        test[new_column]  /= test[period+'_total']"
   ]
  },
  {
   "cell_type": "code",
   "execution_count": 26,
   "metadata": {},
   "outputs": [],
   "source": [
    "uid_cols = ['uid','uid2','uid3','uid4']\n",
    "\n",
    "for col in uid_cols:\n",
    "    for agg_type in ['mean','std']:\n",
    "        new_col_name = col+'_conam_'+agg_type\n",
    "        temp_df = pd.concat([train[[col, 'conam']], test[[col,'conam']]])\n",
    "        temp_df = temp_df.groupby([col])['conam'].agg([agg_type]).reset_index().rename(\n",
    "                                                  columns={agg_type: new_col_name})\n",
    "        \n",
    "        temp_df.index = list(temp_df[col])\n",
    "        temp_df = temp_df[new_col_name].to_dict()   \n",
    "    \n",
    "        train[new_col_name] = train[col].map(temp_df)\n",
    "        test[new_col_name]  = test[col].map(temp_df)"
   ]
  },
  {
   "cell_type": "code",
   "execution_count": 27,
   "metadata": {},
   "outputs": [],
   "source": [
    "for feature in ['cano', 'bacno', 'acqic', 'mchno', 'mcc']:\n",
    "    train[feature + '_count_full'] = train[feature].map(pd.concat([train[feature], test[feature]], ignore_index=True).value_counts(dropna=False))\n",
    "    test[feature + '_count_full'] = test[feature].map(pd.concat([train[feature], test[feature]], ignore_index=True).value_counts(dropna=False))"
   ]
  },
  {
   "cell_type": "code",
   "execution_count": 28,
   "metadata": {},
   "outputs": [],
   "source": [
    "# features interaction\n",
    "for feature in ['cano__bacno', 'stocn__scity', 'csmcu__etymd', 'ecfg__contp', 'mchno__mcc',\n",
    "                'ecfg__etymd', 'acqic__hcefg', 'mchno__hcefg', 'insfg__iterm', 'stscd__etymd']:\n",
    "\n",
    "    f1, f2 = feature.split('__')\n",
    "    train[feature] = train[f1].astype(str) + '_' + train[f2].astype(str)\n",
    "    test[feature] = test[f1].astype(str) + '_' + test[f2].astype(str)\n",
    "\n",
    "    le = preprocessing.LabelEncoder()\n",
    "    le.fit(list(train[feature].astype(str).values) + list(test[feature].astype(str).values))\n",
    "    train[feature] = le.transform(list(train[feature].astype(str).values))\n",
    "    test[feature] = le.transform(list(test[feature].astype(str).values))"
   ]
  },
  {
   "cell_type": "code",
   "execution_count": 29,
   "metadata": {},
   "outputs": [],
   "source": [
    "for col in ['contp','etymd','hcefg']:\n",
    "    temp_dict = train.groupby([col])['fraud_ind'].agg(['mean']).reset_index().rename(\n",
    "                                                           columns={'mean': col+'_target_mean'})\n",
    "    temp_dict.index = temp_dict[col].values\n",
    "    temp_dict = temp_dict[col+'_target_mean'].to_dict()\n",
    "\n",
    "    train[col+'_target_mean'] = train[col].map(temp_dict)\n",
    "    test[col+'_target_mean']  = test[col].map(temp_dict)"
   ]
  },
  {
   "cell_type": "code",
   "execution_count": 30,
   "metadata": {},
   "outputs": [],
   "source": [
    "# frequency encodeing \n",
    "fq_cols = ['cano', 'bacno', 'mchno', 'mcc', 'acqic',\n",
    "           'stocn', 'scity', 'csmcu', 'txn_info',\n",
    "           'contp','etymd', 'hcefg', 'HighRiskFlag',\n",
    "           'uid', 'uid2', 'uid3']\n",
    "\n",
    "for col in fq_cols:\n",
    "    temp_df = pd.concat([train[[col]], test[[col]]])\n",
    "    fq_encode = temp_df[col].value_counts().to_dict()   \n",
    "    train[col+'_fq_enc'] = train[col].map(fq_encode)\n",
    "    test[col+'_fq_enc']  = test[col].map(fq_encode)"
   ]
  },
  {
   "cell_type": "code",
   "execution_count": 31,
   "metadata": {},
   "outputs": [],
   "source": [
    "for feature in ['HighRiskHigherAmount__etymd', 'HighRiskLowerAmount__etymd']:\n",
    "\n",
    "    f1, f2 = feature.split('__')\n",
    "    train[feature] = train[f1].astype(str) + '_' + train[f2].astype(str)\n",
    "    test[feature] = test[f1].astype(str) + '_' + test[f2].astype(str)\n",
    "\n",
    "    le = preprocessing.LabelEncoder()\n",
    "    le.fit(list(train[feature].astype(str).values) + list(test[feature].astype(str).values))\n",
    "    train[feature] = le.transform(list(train[feature].astype(str).values))\n",
    "    test[feature] = le.transform(list(test[feature].astype(str).values))"
   ]
  },
  {
   "cell_type": "code",
   "execution_count": 32,
   "metadata": {},
   "outputs": [],
   "source": [
    "#train['txn_time_info'] = train['locdt'].astype(str)+'_'+train['loct_hour'].astype(str)+'_'+train['cano'].astype(str)+'_'+train['bacno'].astype(str)\n",
    "#test['txn_time_info'] = test['locdt'].astype(str)+'_'+test['loct_hour'].astype(str)+'_'+test['cano'].astype(str)+'_'+test['bacno'].astype(str)"
   ]
  },
  {
   "cell_type": "code",
   "execution_count": 33,
   "metadata": {},
   "outputs": [],
   "source": [
    "#for feature in ['txn_time_info']:\n",
    "#    train[feature + '_count_full'] = train[feature].map(pd.concat([train[feature], test[feature]], ignore_index=True).value_counts(dropna=False))\n",
    "#    test[feature + '_count_full'] = test[feature].map(pd.concat([train[feature], test[feature]], ignore_index=True).value_counts(dropna=False))"
   ]
  },
  {
   "cell_type": "code",
   "execution_count": 34,
   "metadata": {},
   "outputs": [
    {
     "name": "stdout",
     "output_type": "stream",
     "text": [
      "10 features are going to be dropped for being useless\n"
     ]
    }
   ],
   "source": [
    "# drop noise data\n",
    "cols_to_drop = ['loctm','uid','uid2','uid3','uid4','fruad_check',\n",
    "                'txn_info','txn_info_total','HighRiskCountry','HighRiskCurrency']\n",
    "\n",
    "print('{} features are going to be dropped for being useless'.format(len(cols_to_drop)))\n",
    "\n",
    "train = train.drop(cols_to_drop, axis=1)\n",
    "test = test.drop(cols_to_drop, axis=1)"
   ]
  },
  {
   "cell_type": "code",
   "execution_count": 35,
   "metadata": {},
   "outputs": [],
   "source": [
    "for col in train.columns:\n",
    "    if train[col].dtype == 'object':\n",
    "        lbl = preprocessing.LabelEncoder()\n",
    "        lbl.fit(list(train[col].astype(str).values) + list(test[col].astype(str).values))\n",
    "        train[col] = lbl.transform(list(train[col].astype(str).values))\n",
    "        test[col] = lbl.transform(list(test[col].astype(str).values))"
   ]
  },
  {
   "cell_type": "code",
   "execution_count": 36,
   "metadata": {},
   "outputs": [],
   "source": [
    "SEED = 42\n",
    "seed_everything(SEED)"
   ]
  },
  {
   "cell_type": "code",
   "execution_count": 37,
   "metadata": {},
   "outputs": [
    {
     "name": "stdout",
     "output_type": "stream",
     "text": [
      "Size of y_train data : (1521787,)\n",
      "Size of X_train data : (1521787, 87)\n",
      "Size of test data : (421665, 87)\n"
     ]
    },
    {
     "data": {
      "text/plain": [
       "75"
      ]
     },
     "execution_count": 37,
     "metadata": {},
     "output_type": "execute_result"
    }
   ],
   "source": [
    "y = train.sort_values('locdt')['fraud_ind']\n",
    "X = train.sort_values('locdt').drop(['fraud_ind','locdt'], axis=1)\n",
    "\n",
    "X_test = test.drop('locdt', axis=1)\n",
    "\n",
    "print (\"Size of y_train data : {}\" .format(y.shape))\n",
    "print (\"Size of X_train data : {}\" .format(X.shape))\n",
    "print (\"Size of test data : {}\" .format(X_test.shape))\n",
    "\n",
    "del train, test\n",
    "gc.collect()"
   ]
  },
  {
   "cell_type": "code",
   "execution_count": 38,
   "metadata": {},
   "outputs": [],
   "source": [
    "# untuning params\n",
    "params = {'objective': 'binary',\n",
    "          'boosting_type': 'gbdt',\n",
    "          'metric': 'auc',\n",
    "          'learning_rate': 0.007,\n",
    "          'num_leaves': 2**8,\n",
    "          'max_depth': -1,\n",
    "          'tree_learner':'serial',\n",
    "          'colsample_bytree': 0.5,\n",
    "          'subsample_freq':1,\n",
    "          'subsample':0.7,\n",
    "          'n_estimators':10000,\n",
    "          'min_data_in_leaf': 106,\n",
    "          'max_bin':255,\n",
    "          'verbosity': -1,\n",
    "          'seed': SEED,\n",
    "          'early_stopping_rounds':100,\n",
    "         }"
   ]
  },
  {
   "cell_type": "code",
   "execution_count": 39,
   "metadata": {
    "scrolled": true
   },
   "outputs": [
    {
     "name": "stdout",
     "output_type": "stream",
     "text": [
      "Training until validation scores don't improve for 100 rounds.\n",
      "[200]\ttraining's auc: 0.999831\tvalid_1's auc: 0.999426\n",
      "[400]\ttraining's auc: 0.999887\tvalid_1's auc: 0.999456\n",
      "[600]\ttraining's auc: 0.999933\tvalid_1's auc: 0.999487\n",
      "[800]\ttraining's auc: 0.999962\tvalid_1's auc: 0.999508\n",
      "[1000]\ttraining's auc: 0.99998\tvalid_1's auc: 0.999516\n",
      "[1200]\ttraining's auc: 0.99999\tvalid_1's auc: 0.999522\n",
      "[1400]\ttraining's auc: 0.999994\tvalid_1's auc: 0.999526\n",
      "[1600]\ttraining's auc: 0.999996\tvalid_1's auc: 0.999529\n",
      "Early stopping, best iteration is:\n",
      "[1695]\ttraining's auc: 0.999996\tvalid_1's auc: 0.99953\n",
      "Fold 1 | AUC: 0.9995303692379123\n",
      "F1 score at threshold 0.1 is 0.8635380897876128\n",
      "F1 score at threshold 0.11 is 0.8620424878423344\n",
      "F1 score at threshold 0.12 is 0.860642000773495\n",
      "F1 score at threshold 0.13 is 0.8602122702562774\n",
      "F1 score at threshold 0.14 is 0.8617062719127386\n",
      "F1 score at threshold 0.15 is 0.8620689655172413\n",
      "F1 score at threshold 0.16 is 0.8636899306010213\n",
      "F1 score at threshold 0.17 is 0.8649927698172736\n",
      "F1 score at threshold 0.18 is 0.8670886075949367\n",
      "F1 score at threshold 0.19 is 0.8694731268202277\n",
      "F1 score at threshold 0.2 is 0.8715425531914892\n",
      "F1 score at threshold 0.21 is 0.8744322735773442\n",
      "F1 score at threshold 0.22 is 0.8759202248694954\n",
      "F1 score at threshold 0.23 is 0.8763592428513893\n",
      "F1 score at threshold 0.24 is 0.8772354443996234\n",
      "F1 score at threshold 0.25 is 0.8773254246427608\n",
      "F1 score at threshold 0.26 is 0.8782267874037032\n",
      "F1 score at threshold 0.27 is 0.8777582239068633\n",
      "F1 score at threshold 0.28 is 0.8770881434198017\n",
      "F1 score at threshold 0.29 is 0.8771117166212534\n",
      "F1 score at threshold 0.3 is 0.877542662116041\n",
      "F1 score at threshold 0.31 is 0.8787505137690095\n",
      "F1 score at threshold 0.32 is 0.8785175017158544\n",
      "F1 score at threshold 0.33 is 0.8791964777105119\n",
      "F1 score at threshold 0.34 is 0.8792603836070099\n",
      "F1 score at threshold 0.35 is 0.8796347537354731\n",
      "F1 score at threshold 0.36 is 0.880787357915165\n",
      "F1 score at threshold 0.37 is 0.8809556882900402\n",
      "F1 score at threshold 0.38 is 0.8813039843967679\n",
      "F1 score at threshold 0.39 is 0.8806032677000418\n",
      "F1 score at threshold 0.4 is 0.8810856183547845\n",
      "F1 score at threshold 0.41 is 0.881156166690052\n",
      "F1 score at threshold 0.42 is 0.8802588996763755\n",
      "F1 score at threshold 0.43 is 0.881489841986456\n",
      "F1 score at threshold 0.44 is 0.8807469231857404\n",
      "F1 score at threshold 0.45 is 0.8808950573573148\n",
      "F1 score at threshold 0.46 is 0.8805567390995597\n",
      "F1 score at threshold 0.47 is 0.8803187704568094\n",
      "F1 score at threshold 0.48 is 0.8791898445300242\n",
      "F1 score at threshold 0.49 is 0.8796230187062687\n",
      "F1 score at threshold 0.5 is 0.879862700228833\n",
      "Best threshold:  0.43\n",
      "Training until validation scores don't improve for 100 rounds.\n",
      "[200]\ttraining's auc: 0.999841\tvalid_1's auc: 0.999444\n",
      "[400]\ttraining's auc: 0.999896\tvalid_1's auc: 0.999513\n",
      "[600]\ttraining's auc: 0.999939\tvalid_1's auc: 0.999555\n",
      "[800]\ttraining's auc: 0.999967\tvalid_1's auc: 0.999579\n",
      "[1000]\ttraining's auc: 0.999983\tvalid_1's auc: 0.999588\n",
      "[1200]\ttraining's auc: 0.999991\tvalid_1's auc: 0.999593\n",
      "[1400]\ttraining's auc: 0.999995\tvalid_1's auc: 0.999594\n",
      "Early stopping, best iteration is:\n",
      "[1447]\ttraining's auc: 0.999995\tvalid_1's auc: 0.999594\n",
      "Fold 2 | AUC: 0.999594388977499\n",
      "F1 score at threshold 0.1 is 0.9028135262270347\n",
      "F1 score at threshold 0.11 is 0.9043168669336894\n",
      "F1 score at threshold 0.12 is 0.9052255471192497\n",
      "F1 score at threshold 0.13 is 0.9064683748432181\n",
      "F1 score at threshold 0.14 is 0.9074739489759253\n",
      "F1 score at threshold 0.15 is 0.908321325648415\n",
      "F1 score at threshold 0.16 is 0.9098952690501986\n",
      "F1 score at threshold 0.17 is 0.9103248574789613\n",
      "F1 score at threshold 0.18 is 0.9102773246329527\n",
      "F1 score at threshold 0.19 is 0.9119170984455959\n",
      "F1 score at threshold 0.2 is 0.9124692594954004\n",
      "F1 score at threshold 0.21 is 0.9136388533868908\n",
      "F1 score at threshold 0.22 is 0.9104943944127918\n",
      "F1 score at threshold 0.23 is 0.9115859274267821\n",
      "F1 score at threshold 0.24 is 0.9123777900756317\n",
      "F1 score at threshold 0.25 is 0.9127665466629742\n",
      "F1 score at threshold 0.26 is 0.9137516194706645\n",
      "F1 score at threshold 0.27 is 0.9141690637468683\n",
      "F1 score at threshold 0.28 is 0.9149352464362247\n",
      "F1 score at threshold 0.29 is 0.915957745162195\n",
      "F1 score at threshold 0.3 is 0.9163309285111965\n",
      "F1 score at threshold 0.31 is 0.916509966152689\n",
      "F1 score at threshold 0.32 is 0.9170437405731524\n",
      "F1 score at threshold 0.33 is 0.9166824107311543\n",
      "F1 score at threshold 0.34 is 0.9165798693305558\n",
      "F1 score at threshold 0.35 is 0.9173545877217953\n",
      "F1 score at threshold 0.36 is 0.9179735766562115\n",
      "F1 score at threshold 0.37 is 0.9181108360312322\n",
      "F1 score at threshold 0.38 is 0.916642795760527\n",
      "F1 score at threshold 0.39 is 0.9157894736842105\n",
      "F1 score at threshold 0.4 is 0.9159398063835905\n",
      "F1 score at threshold 0.41 is 0.9160745150758595\n",
      "F1 score at threshold 0.42 is 0.9159615384615385\n",
      "F1 score at threshold 0.43 is 0.9162732440504866\n",
      "F1 score at threshold 0.44 is 0.9166184134337002\n",
      "F1 score at threshold 0.45 is 0.9172714078374455\n",
      "F1 score at threshold 0.46 is 0.9160527336176812\n",
      "F1 score at threshold 0.47 is 0.9153726708074533\n",
      "F1 score at threshold 0.48 is 0.9145523476232137\n",
      "F1 score at threshold 0.49 is 0.914185639229422\n",
      "F1 score at threshold 0.5 is 0.9140130489823741\n",
      "Best threshold:  0.37\n",
      "Training until validation scores don't improve for 100 rounds.\n",
      "[200]\ttraining's auc: 0.999847\tvalid_1's auc: 0.99933\n",
      "[400]\ttraining's auc: 0.999902\tvalid_1's auc: 0.999404\n",
      "[600]\ttraining's auc: 0.999944\tvalid_1's auc: 0.999439\n",
      "[800]\ttraining's auc: 0.99997\tvalid_1's auc: 0.999462\n",
      "[1000]\ttraining's auc: 0.999985\tvalid_1's auc: 0.999473\n",
      "[1200]\ttraining's auc: 0.999992\tvalid_1's auc: 0.999478\n",
      "[1400]\ttraining's auc: 0.999995\tvalid_1's auc: 0.99948\n",
      "Early stopping, best iteration is:\n",
      "[1324]\ttraining's auc: 0.999994\tvalid_1's auc: 0.99948\n",
      "Fold 3 | AUC: 0.9994801720799495\n",
      "F1 score at threshold 0.1 is 0.8927359721618094\n",
      "F1 score at threshold 0.11 is 0.8969866853538894\n",
      "F1 score at threshold 0.12 is 0.8975283666109596\n",
      "F1 score at threshold 0.13 is 0.8978546834996026\n",
      "F1 score at threshold 0.14 is 0.898828541001065\n",
      "F1 score at threshold 0.15 is 0.8990204808548531\n",
      "F1 score at threshold 0.16 is 0.9005179496338631\n",
      "F1 score at threshold 0.17 is 0.9014084507042254\n",
      "F1 score at threshold 0.18 is 0.9016496889930586\n",
      "F1 score at threshold 0.19 is 0.9024324079934894\n",
      "F1 score at threshold 0.2 is 0.9020389669234253\n",
      "F1 score at threshold 0.21 is 0.9026516527424628\n",
      "F1 score at threshold 0.22 is 0.9028498588728034\n",
      "F1 score at threshold 0.23 is 0.9042747533796127\n",
      "F1 score at threshold 0.24 is 0.9033321127792018\n",
      "F1 score at threshold 0.25 is 0.9043334557473375\n",
      "F1 score at threshold 0.26 is 0.9059592889380123\n",
      "F1 score at threshold 0.27 is 0.9067726138778526\n",
      "F1 score at threshold 0.28 is 0.9075428042572884\n",
      "F1 score at threshold 0.29 is 0.9056288315065949\n",
      "F1 score at threshold 0.3 is 0.9061102831594635\n",
      "F1 score at threshold 0.31 is 0.9056815001399384\n",
      "F1 score at threshold 0.32 is 0.9054382358437675\n",
      "F1 score at threshold 0.33 is 0.9063319595354065\n",
      "F1 score at threshold 0.34 is 0.9055044148036822\n",
      "F1 score at threshold 0.35 is 0.9041921808761187\n",
      "F1 score at threshold 0.36 is 0.9040837498821088\n",
      "F1 score at threshold 0.37 is 0.9049329049329049\n",
      "F1 score at threshold 0.38 is 0.9016144349477683\n",
      "F1 score at threshold 0.39 is 0.902027992002285\n",
      "F1 score at threshold 0.4 is 0.9018410760278546\n",
      "F1 score at threshold 0.41 is 0.901432664756447\n",
      "F1 score at threshold 0.42 is 0.9001818355823524\n",
      "F1 score at threshold 0.43 is 0.8992426421244368\n",
      "F1 score at threshold 0.44 is 0.8975\n",
      "F1 score at threshold 0.45 is 0.8974679888321941\n",
      "F1 score at threshold 0.46 is 0.89758165526544\n",
      "F1 score at threshold 0.47 is 0.8967847832383894\n",
      "F1 score at threshold 0.48 is 0.8972052992940722\n",
      "F1 score at threshold 0.49 is 0.8967254408060453\n",
      "F1 score at threshold 0.5 is 0.8966453364359124\n",
      "Best threshold:  0.28\n",
      "Training until validation scores don't improve for 100 rounds.\n",
      "[200]\ttraining's auc: 0.999845\tvalid_1's auc: 0.99937\n",
      "[400]\ttraining's auc: 0.999898\tvalid_1's auc: 0.999456\n",
      "[600]\ttraining's auc: 0.99994\tvalid_1's auc: 0.999514\n",
      "[800]\ttraining's auc: 0.999967\tvalid_1's auc: 0.999562\n",
      "[1000]\ttraining's auc: 0.999983\tvalid_1's auc: 0.999585\n",
      "[1200]\ttraining's auc: 0.999992\tvalid_1's auc: 0.999596\n"
     ]
    },
    {
     "name": "stdout",
     "output_type": "stream",
     "text": [
      "[1400]\ttraining's auc: 0.999995\tvalid_1's auc: 0.999602\n",
      "[1600]\ttraining's auc: 0.999997\tvalid_1's auc: 0.999605\n",
      "[1800]\ttraining's auc: 0.999998\tvalid_1's auc: 0.999608\n",
      "[2000]\ttraining's auc: 0.999998\tvalid_1's auc: 0.99961\n",
      "[2200]\ttraining's auc: 0.999998\tvalid_1's auc: 0.999613\n",
      "Early stopping, best iteration is:\n",
      "[2215]\ttraining's auc: 0.999998\tvalid_1's auc: 0.999613\n",
      "Fold 4 | AUC: 0.9996128445047436\n",
      "F1 score at threshold 0.1 is 0.8851253774451884\n",
      "F1 score at threshold 0.11 is 0.8872477911116972\n",
      "F1 score at threshold 0.12 is 0.8898900225255069\n",
      "F1 score at threshold 0.13 is 0.8901025709337951\n",
      "F1 score at threshold 0.14 is 0.890491452991453\n",
      "F1 score at threshold 0.15 is 0.8904403866809882\n",
      "F1 score at threshold 0.16 is 0.8921542194661636\n",
      "F1 score at threshold 0.17 is 0.8948509485094852\n",
      "F1 score at threshold 0.18 is 0.8955872369314325\n",
      "F1 score at threshold 0.19 is 0.8959042046536944\n",
      "F1 score at threshold 0.2 is 0.8973135142506478\n",
      "F1 score at threshold 0.21 is 0.8985229759299782\n",
      "F1 score at threshold 0.22 is 0.8995884773662551\n",
      "F1 score at threshold 0.23 is 0.9002747252747252\n",
      "F1 score at threshold 0.24 is 0.9013619479983492\n",
      "F1 score at threshold 0.25 is 0.9026206896551724\n",
      "F1 score at threshold 0.26 is 0.9026108578532946\n",
      "F1 score at threshold 0.27 is 0.9040564862245604\n",
      "F1 score at threshold 0.28 is 0.9039877726830624\n",
      "F1 score at threshold 0.29 is 0.9038729451100584\n",
      "F1 score at threshold 0.3 is 0.9034059184812954\n",
      "F1 score at threshold 0.31 is 0.9035419291614168\n",
      "F1 score at threshold 0.32 is 0.9047284972639259\n",
      "F1 score at threshold 0.33 is 0.9053845072402644\n",
      "F1 score at threshold 0.34 is 0.9069636312376657\n",
      "F1 score at threshold 0.35 is 0.9061132288578285\n",
      "F1 score at threshold 0.36 is 0.9062897526501767\n",
      "F1 score at threshold 0.37 is 0.9062102136087141\n",
      "F1 score at threshold 0.38 is 0.9062322946175637\n",
      "F1 score at threshold 0.39 is 0.9060992907801418\n",
      "F1 score at threshold 0.4 is 0.9066098081023455\n",
      "F1 score at threshold 0.41 is 0.907122507122507\n",
      "F1 score at threshold 0.42 is 0.9073017683970336\n",
      "F1 score at threshold 0.43 is 0.9069369112189551\n",
      "F1 score at threshold 0.44 is 0.9065180102915953\n",
      "F1 score at threshold 0.45 is 0.9059682267067412\n",
      "F1 score at threshold 0.46 is 0.9058334527733981\n",
      "F1 score at threshold 0.47 is 0.9051724137931034\n",
      "F1 score at threshold 0.48 is 0.9034860270815327\n",
      "F1 score at threshold 0.49 is 0.9024989166546296\n",
      "F1 score at threshold 0.5 is 0.9021251987856007\n",
      "Best threshold:  0.42\n",
      "Training until validation scores don't improve for 100 rounds.\n",
      "[200]\ttraining's auc: 0.999822\tvalid_1's auc: 0.999589\n",
      "[400]\ttraining's auc: 0.999882\tvalid_1's auc: 0.99963\n",
      "[600]\ttraining's auc: 0.999929\tvalid_1's auc: 0.999656\n",
      "[800]\ttraining's auc: 0.99996\tvalid_1's auc: 0.999675\n",
      "[1000]\ttraining's auc: 0.999979\tvalid_1's auc: 0.999684\n",
      "[1200]\ttraining's auc: 0.999989\tvalid_1's auc: 0.999689\n",
      "[1400]\ttraining's auc: 0.999994\tvalid_1's auc: 0.999692\n",
      "[1600]\ttraining's auc: 0.999996\tvalid_1's auc: 0.999695\n",
      "[1800]\ttraining's auc: 0.999997\tvalid_1's auc: 0.999697\n",
      "[2000]\ttraining's auc: 0.999997\tvalid_1's auc: 0.999697\n",
      "Early stopping, best iteration is:\n",
      "[1929]\ttraining's auc: 0.999997\tvalid_1's auc: 0.999698\n",
      "Fold 5 | AUC: 0.9996975021926497\n",
      "F1 score at threshold 0.1 is 0.8907317073170732\n",
      "F1 score at threshold 0.11 is 0.8925944090240314\n",
      "F1 score at threshold 0.12 is 0.8945036915504512\n",
      "F1 score at threshold 0.13 is 0.8952474921887847\n",
      "F1 score at threshold 0.14 is 0.8960052822713767\n",
      "F1 score at threshold 0.15 is 0.8965403078960437\n",
      "F1 score at threshold 0.16 is 0.8976952412535234\n",
      "F1 score at threshold 0.17 is 0.8994515539305302\n",
      "F1 score at threshold 0.18 is 0.900768459739392\n",
      "F1 score at threshold 0.19 is 0.9008555611474585\n",
      "F1 score at threshold 0.2 is 0.9022379269729094\n",
      "F1 score at threshold 0.21 is 0.9029749830966869\n",
      "F1 score at threshold 0.22 is 0.9047457627118644\n",
      "F1 score at threshold 0.23 is 0.9056282945077369\n",
      "F1 score at threshold 0.24 is 0.9045260461144322\n",
      "F1 score at threshold 0.25 is 0.9060092449922957\n",
      "F1 score at threshold 0.26 is 0.9058419243986254\n",
      "F1 score at threshold 0.27 is 0.9060830604859555\n",
      "F1 score at threshold 0.28 is 0.9061040982189176\n",
      "F1 score at threshold 0.29 is 0.9075455333911535\n",
      "F1 score at threshold 0.3 is 0.9063423110338836\n",
      "F1 score at threshold 0.31 is 0.9077593722755014\n",
      "F1 score at threshold 0.32 is 0.908138316451275\n",
      "F1 score at threshold 0.33 is 0.9095688748685594\n",
      "F1 score at threshold 0.34 is 0.9084841032847357\n",
      "F1 score at threshold 0.35 is 0.9091869060190074\n",
      "F1 score at threshold 0.36 is 0.9125973106864828\n",
      "F1 score at threshold 0.37 is 0.9117647058823529\n",
      "F1 score at threshold 0.38 is 0.9107364685004435\n",
      "F1 score at threshold 0.39 is 0.9093816631130064\n",
      "F1 score at threshold 0.4 is 0.9086050240513095\n",
      "F1 score at threshold 0.41 is 0.9085714285714286\n",
      "F1 score at threshold 0.42 is 0.9053084648493543\n",
      "F1 score at threshold 0.43 is 0.9063454970339745\n",
      "F1 score at threshold 0.44 is 0.9051910598413843\n",
      "F1 score at threshold 0.45 is 0.9054151624548736\n",
      "F1 score at threshold 0.46 is 0.9039261805681201\n",
      "F1 score at threshold 0.47 is 0.9032608695652173\n",
      "F1 score at threshold 0.48 is 0.902593869036822\n",
      "F1 score at threshold 0.49 is 0.9022884126407555\n",
      "F1 score at threshold 0.5 is 0.9022747952684258\n",
      "Best threshold:  0.36\n",
      "\n",
      "Mean AUC = 0.9995830553985509\n",
      "Out of folds AUC = 0.9995767988085051\n",
      "\n",
      "Mean F1 Score = 0.8989842159402291\n",
      "Mean Recall score = 0.8839543823074261\n",
      "Mean Precision score = 0.9149171056861597\n",
      "Wall time: 1h 54min 10s\n"
     ]
    }
   ],
   "source": [
    "%%time\n",
    "\n",
    "NFOLDS = 5\n",
    "#folds = KFold(n_splits=NFOLDS, random_state=47 ,shuffle=True)\n",
    "folds = KFold(n_splits=NFOLDS)\n",
    "columns = X.columns\n",
    "splits = folds.split(X, y)\n",
    "y_preds = np.zeros(X_test.shape[0])\n",
    "y_oof = np.zeros(X.shape[0])\n",
    "auc_score = 0\n",
    "best_threshold = 0\n",
    "F1_score = []\n",
    "recalls = []\n",
    "precisions = []\n",
    "cms= []\n",
    "\n",
    "feature_importances = pd.DataFrame()\n",
    "feature_importances['feature'] = columns\n",
    "  \n",
    "for fold_n, (train_index, valid_index) in enumerate(splits):\n",
    "    X_train, X_valid = X[columns].iloc[train_index], X[columns].iloc[valid_index]\n",
    "    y_train, y_valid = y.iloc[train_index], y.iloc[valid_index]\n",
    "    \n",
    "    dtrain = lgb.Dataset(X_train, label=y_train)\n",
    "    dvalid = lgb.Dataset(X_valid, label=y_valid)\n",
    "\n",
    "    clf = lgb.train(params, dtrain, 10000, valid_sets = [dtrain, dvalid], verbose_eval=200, early_stopping_rounds=200)\n",
    "    \n",
    "    feature_importances[f'fold_{fold_n + 1}'] = clf.feature_importance()\n",
    "    \n",
    "    y_pred_valid = clf.predict(X_valid)\n",
    "    y_oof[valid_index] = y_pred_valid\n",
    "    print(f\"Fold {fold_n + 1} | AUC: {roc_auc_score(y_valid, y_pred_valid)}\")\n",
    "    \n",
    "    auc_score += roc_auc_score(y_valid, y_pred_valid) / NFOLDS\n",
    "     \n",
    "    F1_score.append(f1_score(y_valid.values, y_pred_valid.round())) \n",
    "    recalls.append(recall_score(y_valid.values, y_pred_valid.round()))\n",
    "    precisions.append(precision_score(y_valid.values , y_pred_valid.round()))\n",
    "    cms.append(confusion_matrix(y_valid.values, y_pred_valid.round()))\n",
    "    \n",
    "    # Optimize f1 score\n",
    "    thresholds = []\n",
    "    for thresh in np.arange(0.1, 0.501, 0.01):\n",
    "        thresh = np.round(thresh, 2)\n",
    "        res = f1_score(y_valid.values, (y_pred_valid > thresh).astype(int))\n",
    "        thresholds.append([thresh, res])\n",
    "        print(\"F1 score at threshold {0} is {1}\".format(thresh, res))\n",
    "        \n",
    "    thresholds.sort(key=lambda x: x[1], reverse=True)\n",
    "    best_thresh = thresholds[0][0]\n",
    "    print(\"Best threshold: \", best_thresh)\n",
    "    \n",
    "    y_preds += (clf.predict(X_test)>best_thresh).astype(int) / NFOLDS\n",
    "    \n",
    "    del X_train, X_valid, y_train, y_valid\n",
    "    gc.collect()\n",
    "    \n",
    "print(f\"\\nMean AUC = {auc_score}\")\n",
    "print(f\"Out of folds AUC = {roc_auc_score(y, y_oof)}\")\n",
    "print(f\"\\nMean F1 Score = {np.mean(F1_score)}\")\n",
    "print(f\"Mean Recall score = {np.mean(recalls)}\")\n",
    "print(f\"Mean Precision score = {np.mean(precisions)}\")"
   ]
  },
  {
   "cell_type": "code",
   "execution_count": 40,
   "metadata": {},
   "outputs": [
    {
     "ename": "SyntaxError",
     "evalue": "invalid syntax (<ipython-input-40-ae796fb4289f>, line 1)",
     "output_type": "error",
     "traceback": [
      "\u001b[1;36m  File \u001b[1;32m\"<ipython-input-40-ae796fb4289f>\"\u001b[1;36m, line \u001b[1;32m1\u001b[0m\n\u001b[1;33m    Mean AUC = 0.9880941086500521\u001b[0m\n\u001b[1;37m           ^\u001b[0m\n\u001b[1;31mSyntaxError\u001b[0m\u001b[1;31m:\u001b[0m invalid syntax\n"
     ]
    }
   ],
   "source": [
    "Mean AUC = 0.9880941086500521\n",
    "Out of folds AUC = 0.9886164328277743\n",
    "\n",
    "Mean F1 Score = 0.6491700088804422\n",
    "Best Threshold = 0.24400000000000005\n",
    "-------------------------------------------\n",
    "Mean AUC = 0.9863439641737028\n",
    "Out of folds AUC = 0.9854926269428487\n",
    "\n",
    "Mean F1 Score = 0.6393889254040238\n",
    "Wall time: 45min 57s\n",
    "-------------------------------------------\n",
    "Mean AUC = 0.9872535738726497\n",
    "Out of folds AUC = 0.9877709384782674\n",
    "\n",
    "Mean F1 Score = 0.6492521199805226"
   ]
  },
  {
   "cell_type": "code",
   "execution_count": 41,
   "metadata": {},
   "outputs": [
    {
     "name": "stdout",
     "output_type": "stream",
     "text": [
      "\tSuccessfully loaded sample_submission!\n"
     ]
    }
   ],
   "source": [
    "sub = pd.read_csv('C:\\\\Users\\\\洪廷奇\\\\Desktop\\\\E-Sun_Credit_Card_Fraud_EDA/submission_test.csv')\n",
    "print('\\tSuccessfully loaded sample_submission!')\n",
    "\n",
    "sub['fraud_ind'] = (y_preds > 0.5).astype(int)\n",
    "sub.to_csv(\"E-Sun_Credit_Card_Fraud_Detection_submission137.csv\", index=False)"
   ]
  },
  {
   "cell_type": "code",
   "execution_count": 42,
   "metadata": {},
   "outputs": [
    {
     "data": {
      "image/png": "[encoded data removed]",
      "text/plain": [
       "<Figure size 1152x1152 with 1 Axes>"
      ]
     },
     "metadata": {
      "needs_background": "light"
     },
     "output_type": "display_data"
    }
   ],
   "source": [
    "feature_importances['average'] = feature_importances[[f'fold_{fold_n + 1}' for fold_n in range(folds.n_splits)]].mean(axis=1)\n",
    "feature_importances.to_csv('E-Sun_Credit_Card_Fraud_Detection_feature_importances_Kflod108.csv')\n",
    "\n",
    "plt.figure(figsize=(16, 16))\n",
    "sns.barplot(data=feature_importances.sort_values(by='average', ascending=False).head(50), x='average', y='feature');\n",
    "plt.title('50 TOP features importance over {} folds average'.format(folds.n_splits));"
   ]
  },
  {
   "cell_type": "code",
   "execution_count": null,
   "metadata": {},
   "outputs": [],
   "source": []
  },
  {
   "cell_type": "code",
   "execution_count": null,
   "metadata": {},
   "outputs": [],
   "source": [
    "(1/NFOLDS)*(NFOLDS/2)"
   ]
  },
  {
   "cell_type": "code",
   "execution_count": null,
   "metadata": {},
   "outputs": [],
   "source": []
  }
 ],
 "metadata": {
  "kernelspec": {
   "display_name": "Python 3",
   "language": "python",
   "name": "python3"
  },
  "language_info": {
   "codemirror_mode": {
    "name": "ipython",
    "version": 3
   },
   "file_extension": ".py",
   "mimetype": "text/x-python",
   "name": "python",
   "nbconvert_exporter": "python",
   "pygments_lexer": "ipython3",
   "version": "3.7.3"
  }
 },
 "nbformat": 4,
 "nbformat_minor": 2
}
