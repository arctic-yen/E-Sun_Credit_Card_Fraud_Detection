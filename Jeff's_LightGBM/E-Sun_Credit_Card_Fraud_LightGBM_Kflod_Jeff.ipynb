{
 "cells": [
  {
   "cell_type": "code",
   "execution_count": 1,
   "metadata": {},
   "outputs": [],
   "source": [
    "import numpy as np\n",
    "import pandas as pd\n",
    "import re\n",
    "import matplotlib\n",
    "import matplotlib.pyplot as plt\n",
    "%matplotlib inline\n",
    "import seaborn as sns\n",
    "sns.set(font_scale=1.56)\n",
    "import gc\n",
    "\n",
    "import os, sys, random, math\n",
    "\n",
    "import warnings\n",
    "warnings.filterwarnings('ignore')\n",
    "\n",
    "from scipy import stats\n",
    "from scipy.stats import norm\n",
    "\n",
    "from sklearn import preprocessing\n",
    "from sklearn.model_selection import KFold, GroupKFold, train_test_split\n",
    "from sklearn.metrics import f1_score, roc_auc_score\n",
    "from bayes_opt import BayesianOptimization\n",
    "import lightgbm as lgb"
   ]
  },
  {
   "cell_type": "code",
   "execution_count": 2,
   "metadata": {},
   "outputs": [],
   "source": [
    "def seed_everything(seed=0):\n",
    "    random.seed(seed)\n",
    "    os.environ['PYTHONHASHSEED'] = str(seed)\n",
    "    np.random.seed(seed)"
   ]
  },
  {
   "cell_type": "code",
   "execution_count": 3,
   "metadata": {},
   "outputs": [
    {
     "name": "stdout",
     "output_type": "stream",
     "text": [
      "Loading data...\n",
      "\tSuccessfully loaded train_identity!\n",
      "\tSuccessfully loaded test_identity!\n",
      "Data was successfully loaded!\n",
      "\n",
      "Wall time: 4.88 s\n"
     ]
    }
   ],
   "source": [
    "%%time\n",
    "\n",
    "print('Loading data...')\n",
    "\n",
    "train = pd.read_csv('E-Sun_Credit_Card_Fraud_Data/train.csv', index_col='txkey')\n",
    "print('\\tSuccessfully loaded train_identity!')\n",
    "\n",
    "test = pd.read_csv('E-Sun_Credit_Card_Fraud_Data/test.csv', index_col='txkey')\n",
    "print('\\tSuccessfully loaded test_identity!')\n",
    "\n",
    "print('Data was successfully loaded!\\n')"
   ]
  },
  {
   "cell_type": "code",
   "execution_count": 4,
   "metadata": {},
   "outputs": [],
   "source": [
    "train['flbmk'] = train['flbmk'].fillna('Nan')\n",
    "train['flg_3dsmk'] = train['flg_3dsmk'].fillna('Nan')\n",
    "\n",
    "test['flbmk'] = test['flbmk'].fillna('Nan')\n",
    "test['flg_3dsmk'] = test['flg_3dsmk'].fillna('Nan')"
   ]
  },
  {
   "cell_type": "code",
   "execution_count": 5,
   "metadata": {},
   "outputs": [
    {
     "data": {
      "text/plain": [
       "Series([], dtype: int64)"
      ]
     },
     "execution_count": 5,
     "metadata": {},
     "output_type": "execute_result"
    }
   ],
   "source": [
    "check_null_train = train.isnull().sum()\n",
    "check_null_train[check_null_train>0].sort_values(ascending=False)"
   ]
  },
  {
   "cell_type": "code",
   "execution_count": 6,
   "metadata": {},
   "outputs": [
    {
     "data": {
      "text/plain": [
       "Series([], dtype: int64)"
      ]
     },
     "execution_count": 6,
     "metadata": {},
     "output_type": "execute_result"
    }
   ],
   "source": [
    "check_null_test = test.isnull().sum()\n",
    "check_null_test[check_null_test>0].sort_values(ascending=False)"
   ]
  },
  {
   "cell_type": "code",
   "execution_count": 7,
   "metadata": {},
   "outputs": [],
   "source": [
    "def data_split(dataframe):\n",
    "    \n",
    "    dataframe['ecfg'] = dataframe['ecfg'].map({'Y':1, 'N':0})\n",
    "    dataframe['ovrlt'] = dataframe['ovrlt'].map({'Y':1, 'N':0})\n",
    "    dataframe['flbmk'] = dataframe['flbmk'].map({'Y':2, 'N':1, 'Nan':0})\n",
    "    dataframe['flg_3dsmk'] = dataframe['flg_3dsmk'].map({'Y':2, 'N':1, 'Nan':0})\n",
    "    dataframe['insfg'] = dataframe['insfg'].map({'Y':1, 'N':0})\n",
    "    dataframe['locdt_M'] = dataframe['locdt'].map({1:1,2:1,3:1,4:1,5:1,6:1,7:1,8:1,9:1,10:1,11:1,12:1,13:1,14:1,15:1,\n",
    "                                                   16:1,17:1,18:1,19:1,20:1,21:1,22:1,23:1,24:1,25:1,26:1,27:1,28:1,29:1,30:1,31:1,\n",
    "                                                   32:2,33:2,34:2,35:2,36:2,37:2,38:2,39:2,40:2,41:2,42:2,43:2,44:2,45:2,\n",
    "                                                   46:2,47:2,48:2,49:2,50:2,51:2,52:2,53:2,54:2,55:2,56:2,57:2,58:2,59:2,60:2,61:2,\n",
    "                                                   62:3,63:3,64:3,65:3,66:3,67:3,68:3,69:3,70:3,71:3,72:3,73:3,74:3,75:3,\n",
    "                                                   76:3,77:3,78:3,79:3,80:3,81:3,82:3,83:3,84:3,85:3,86:3,87:3,88:3,89:3,90:3,91:3,92:3,\n",
    "                                                   93:4,94:4,95:4,96:4,97:4,98:4,99:4,100:4,101:4,102:4,103:4,104:4,105:4,106:4,107:4,\n",
    "                                                   108:4,109:4,110:4,111:4,112:4,113:4,114:4,115:4,116:4,117:4,118:4,119:4,120:4})\n",
    "    gc.collect()\n",
    "    \n",
    "    return dataframe"
   ]
  },
  {
   "cell_type": "code",
   "execution_count": 8,
   "metadata": {},
   "outputs": [],
   "source": [
    "train = data_split(train)\n",
    "test = data_split(test)"
   ]
  },
  {
   "cell_type": "code",
   "execution_count": 9,
   "metadata": {},
   "outputs": [],
   "source": [
    "train['txn_info'] = train['flg_3dsmk'].astype(str)+train['flbmk'].astype(str)+train['stscd'].astype(str)+train['ovrlt'].astype(str)\n",
    "test['txn_info'] = test['flg_3dsmk'].astype(str)+test['flbmk'].astype(str)+test['stscd'].astype(str)+test['ovrlt'].astype(str)"
   ]
  },
  {
   "cell_type": "code",
   "execution_count": 10,
   "metadata": {},
   "outputs": [],
   "source": [
    "RiskCountry = [104, 75]\n",
    "train['HighRiskCountry'] = train['stocn'].apply(lambda x: 1 if x in RiskCountry else 0)\n",
    "test['HighRiskCountry'] = test['stocn'].apply(lambda x: 1 if x in RiskCountry else 0)"
   ]
  },
  {
   "cell_type": "code",
   "execution_count": 11,
   "metadata": {},
   "outputs": [],
   "source": [
    "RiskCurrency = [60, 61]\n",
    "train['HighRiskCurrency'] = train['csmcu'].apply(lambda x: 1 if x in RiskCurrency else 0)\n",
    "test['HighRiskCurrency'] = test['csmcu'].apply(lambda x: 1 if x in RiskCurrency else 0)"
   ]
  },
  {
   "cell_type": "code",
   "execution_count": 12,
   "metadata": {},
   "outputs": [],
   "source": [
    "train['HighRiskFlag'] = train['HighRiskCountry'].astype(str)+train['HighRiskCurrency'].astype(str)\n",
    "test['HighRiskFlag'] = test['HighRiskCountry'].astype(str)+test['HighRiskCurrency'].astype(str)"
   ]
  },
  {
   "cell_type": "code",
   "execution_count": 13,
   "metadata": {},
   "outputs": [],
   "source": [
    "train['conam_decimal'] = ((train['conam'] - train['conam'].astype(int)) * 1000).astype(int)\n",
    "test['conam_decimal'] = ((test['conam'] - test['conam'].astype(int)) * 1000).astype(int)"
   ]
  },
  {
   "cell_type": "code",
   "execution_count": 14,
   "metadata": {},
   "outputs": [],
   "source": [
    "train['HighRiskLowerAmount'] = 0\n",
    "test['HighRiskLowerAmount'] = 0\n",
    "\n",
    "train['HighRiskLowerAmount'] = train['conam'] < 201\n",
    "test['HighRiskLowerAmount'] = test['conam'] < 201\n",
    "\n",
    "train['HighRiskLowerAmount'] = train['HighRiskLowerAmount'].map({True:1, False:0})\n",
    "test['HighRiskLowerAmount'] = test['HighRiskLowerAmount'].map({True:1, False:0})"
   ]
  },
  {
   "cell_type": "code",
   "execution_count": 15,
   "metadata": {},
   "outputs": [],
   "source": [
    "train['HighRiskHigherAmount'] = 0\n",
    "test['HighRiskHigherAmount'] = 0\n",
    "\n",
    "train['HighRiskHigherAmount'] = train['conam'] > 999\n",
    "test['HighRiskHigherAmount'] = test['conam'] > 999\n",
    "\n",
    "train['HighRiskHigherAmount'] = train['HighRiskHigherAmount'].map({True:1, False:0})\n",
    "test['HighRiskHigherAmount'] = test['HighRiskHigherAmount'].map({True:1, False:0})"
   ]
  },
  {
   "cell_type": "code",
   "execution_count": 16,
   "metadata": {},
   "outputs": [],
   "source": [
    "train['loct_hour'] = train['loctm']//10000\n",
    "test['loct_hour'] = test['loctm']//10000"
   ]
  },
  {
   "cell_type": "code",
   "execution_count": 17,
   "metadata": {},
   "outputs": [],
   "source": [
    "for col in ['locdt','txn_info']: #'locdt_M'\n",
    "    temp_df = pd.concat([train[[col]], test[[col]]])\n",
    "    fq_encode = temp_df[col].value_counts().to_dict()\n",
    "            \n",
    "    train[col+'_total'] = train[col].map(fq_encode)\n",
    "    test[col+'_total']  = test[col].map(fq_encode)"
   ]
  },
  {
   "cell_type": "code",
   "execution_count": 18,
   "metadata": {},
   "outputs": [],
   "source": [
    "# simply aggregations no logic\n",
    "train['conam_to_mean_cano'] = train['conam'] / train.groupby(['cano'])['conam'].transform('mean')\n",
    "train['conam_to_mean_bacno'] = train['conam'] / train.groupby(['bacno'])['conam'].transform('mean')\n",
    "test['conam_to_mean_cano'] = test['conam'] / test.groupby(['cano'])['conam'].transform('mean')\n",
    "test['conam_to_mean_bacno'] = test['conam'] / test.groupby(['bacno'])['conam'].transform('mean')\n",
    "\n",
    "train['conam_to_std_cano'] = train['conam'] / train.groupby(['cano'])['conam'].transform('std')\n",
    "train['conam_to_std_bacno'] = train['conam'] / train.groupby(['bacno'])['conam'].transform('std')\n",
    "test['conam_to_std_cano'] = test['conam'] / test.groupby(['cano'])['conam'].transform('std')\n",
    "test['conam_to_std_bacno'] = test['conam'] / test.groupby(['bacno'])['conam'].transform('std')\n",
    "\n",
    "train['conam_to_mean_mchno'] = train['conam'] / train.groupby(['mchno'])['conam'].transform('mean')\n",
    "train['conam_to_mean_mcc'] = train['conam'] / train.groupby(['mcc'])['conam'].transform('mean')\n",
    "train['conam_to_mean_hcefg'] = train['conam'] / train.groupby(['hcefg'])['conam'].transform('mean')\n",
    "test['conam_to_mean_mchno'] = test['conam'] / test.groupby(['mchno'])['conam'].transform('mean')\n",
    "test['conam_to_mean_mcc'] = test['conam'] / test.groupby(['mcc'])['conam'].transform('mean')\n",
    "test['conam_to_mean_hcefg'] = test['conam'] / test.groupby(['hcefg'])['conam'].transform('mean')\n",
    "\n",
    "train['conam_to_std_mchno'] = train['conam'] / train.groupby(['mchno'])['conam'].transform('std')\n",
    "train['conam_to_std_mcc'] = train['conam'] / train.groupby(['mcc'])['conam'].transform('std')\n",
    "train['conam_to_std_hcefg'] = train['conam'] / train.groupby(['hcefg'])['conam'].transform('std')\n",
    "test['conam_to_std_mchno'] = test['conam'] / test.groupby(['mchno'])['conam'].transform('std')\n",
    "test['conam_to_std_mcc'] = test['conam'] / test.groupby(['mcc'])['conam'].transform('std')\n",
    "test['conam_to_std_hcefg'] = test['conam'] / test.groupby(['hcefg'])['conam'].transform('std')\n",
    "\n",
    "train['conam_to_mean_acqic'] = train['conam'] / train.groupby(['acqic'])['conam'].transform('mean')\n",
    "test['conam_to_mean_acqic'] = test['conam'] / test.groupby(['acqic'])['conam'].transform('mean')\n",
    "\n",
    "train['conam_to_std_acqic'] = train['conam'] / train.groupby(['acqic'])['conam'].transform('std')\n",
    "test['conam_to_std_acqic'] = test['conam'] / test.groupby(['acqic'])['conam'].transform('std')"
   ]
  },
  {
   "cell_type": "code",
   "execution_count": 19,
   "metadata": {},
   "outputs": [],
   "source": [
    "# check amount\n",
    "train['conam_check'] = np.where(train['conam'].isin(test['conam']), 1, 0)\n",
    "test['conam_check']  = np.where(test['conam'].isin(train['conam']), 1, 0)"
   ]
  },
  {
   "cell_type": "code",
   "execution_count": 20,
   "metadata": {},
   "outputs": [],
   "source": [
    "train['uid'] = train['cano'].astype(str)+'_'+train['bacno'].astype(str)\n",
    "test['uid'] = test['cano'].astype(str)+'_'+test['bacno'].astype(str)\n",
    "\n",
    "train['uid2'] = train['uid'].astype(str)+'_'+train['acqic'].astype(str)\n",
    "test['uid2'] = test['uid'].astype(str)+'_'+test['acqic'].astype(str)\n",
    "\n",
    "train['uid3'] = train['uid2'].astype(str)+'_'+train['mchno'].astype(str)+'_'+train['mcc'].astype(str)\n",
    "test['uid3'] = test['uid2'].astype(str)+'_'+test['mchno'].astype(str)+'_'+test['mcc'].astype(str)\n",
    "\n",
    "train['uid4'] = train['uid'].astype(str)+'_'+train['stocn'].astype(str)+'_'+train['scity'].astype(str)+'_'+train['csmcu'].astype(str)\n",
    "test['uid4'] = test['uid'].astype(str)+'_'+test['stocn'].astype(str)+'_'+test['scity'].astype(str)+'_'+test['csmcu'].astype(str)\n",
    "#train['uid4'] = train['uid'].astype(str)+'_'+train['stocn'].astype(str)+'_'+train['csmcu'].astype(str)\n",
    "#test['uid4'] = test['uid'].astype(str)+'_'+test['stocn'].astype(str)+'_'+test['csmcu'].astype(str)"
   ]
  },
  {
   "cell_type": "code",
   "execution_count": 21,
   "metadata": {},
   "outputs": [],
   "source": [
    "periods = ['locdt','txn_info'] #'locdt_M'\n",
    "i_cols = ['uid']\n",
    "for period in periods:\n",
    "    for col in i_cols:\n",
    "        new_column = col + '_' + period\n",
    "            \n",
    "        temp_df = pd.concat([train[[col,period]], test[[col,period]]])\n",
    "        temp_df[new_column] = temp_df[col].astype(str) + '_' + (temp_df[period]).astype(str)\n",
    "        fq_encode = temp_df[new_column].value_counts().to_dict()\n",
    "            \n",
    "        train[new_column] = (train[col].astype(str) + '_' + train[period].astype(str)).map(fq_encode)\n",
    "        test[new_column]  = (test[col].astype(str) + '_' + test[period].astype(str)).map(fq_encode)\n",
    "        \n",
    "        train[new_column] /= train[period+'_total']\n",
    "        test[new_column]  /= test[period+'_total']"
   ]
  },
  {
   "cell_type": "code",
   "execution_count": 22,
   "metadata": {},
   "outputs": [],
   "source": [
    "uid_cols = ['uid','uid2','uid3','uid4']\n",
    "\n",
    "for col in uid_cols:\n",
    "    for agg_type in ['mean','std']:\n",
    "        new_col_name = col+'_conam_'+agg_type\n",
    "        temp_df = pd.concat([train[[col, 'conam']], test[[col,'conam']]])\n",
    "        temp_df = temp_df.groupby([col])['conam'].agg([agg_type]).reset_index().rename(\n",
    "                                                  columns={agg_type: new_col_name})\n",
    "        \n",
    "        temp_df.index = list(temp_df[col])\n",
    "        temp_df = temp_df[new_col_name].to_dict()   \n",
    "    \n",
    "        train[new_col_name] = train[col].map(temp_df)\n",
    "        test[new_col_name]  = test[col].map(temp_df)"
   ]
  },
  {
   "cell_type": "code",
   "execution_count": 23,
   "metadata": {},
   "outputs": [],
   "source": [
    "for feature in ['cano', 'bacno', 'acqic', 'mchno', 'mcc']:\n",
    "    train[feature + '_count_full'] = train[feature].map(pd.concat([train[feature], test[feature]], ignore_index=True).value_counts(dropna=False))\n",
    "    test[feature + '_count_full'] = test[feature].map(pd.concat([train[feature], test[feature]], ignore_index=True).value_counts(dropna=False))"
   ]
  },
  {
   "cell_type": "code",
   "execution_count": 24,
   "metadata": {},
   "outputs": [],
   "source": [
    "# features interaction\n",
    "for feature in ['cano__bacno', 'stocn__scity', 'csmcu__etymd', 'ecfg__contp', 'mchno__mcc',\n",
    "                'ecfg__etymd', 'acqic__hcefg', 'mchno__hcefg', 'insfg__iterm', 'stscd__etymd']:\n",
    "\n",
    "    f1, f2 = feature.split('__')\n",
    "    train[feature] = train[f1].astype(str) + '_' + train[f2].astype(str)\n",
    "    test[feature] = test[f1].astype(str) + '_' + test[f2].astype(str)\n",
    "\n",
    "    le = preprocessing.LabelEncoder()\n",
    "    le.fit(list(train[feature].astype(str).values) + list(test[feature].astype(str).values))\n",
    "    train[feature] = le.transform(list(train[feature].astype(str).values))\n",
    "    test[feature] = le.transform(list(test[feature].astype(str).values))"
   ]
  },
  {
   "cell_type": "code",
   "execution_count": 25,
   "metadata": {},
   "outputs": [],
   "source": [
    "for col in ['contp','etymd','hcefg']:\n",
    "    temp_dict = train.groupby([col])['fraud_ind'].agg(['mean']).reset_index().rename(\n",
    "                                                           columns={'mean': col+'_target_mean'})\n",
    "    temp_dict.index = temp_dict[col].values\n",
    "    temp_dict = temp_dict[col+'_target_mean'].to_dict()\n",
    "\n",
    "    train[col+'_target_mean'] = train[col].map(temp_dict)\n",
    "    test[col+'_target_mean']  = test[col].map(temp_dict)"
   ]
  },
  {
   "cell_type": "code",
   "execution_count": 26,
   "metadata": {},
   "outputs": [],
   "source": [
    "# frequency encodeing \n",
    "fq_cols = ['cano', 'bacno', 'mchno', 'mcc', 'acqic',\n",
    "           'stocn', 'scity', 'csmcu', 'txn_info',\n",
    "           'contp','etymd', 'hcefg', 'HighRiskFlag',\n",
    "           'uid', 'uid2', 'uid3']\n",
    "\n",
    "for col in fq_cols:\n",
    "    temp_df = pd.concat([train[[col]], test[[col]]])\n",
    "    fq_encode = temp_df[col].value_counts().to_dict()   \n",
    "    train[col+'_fq_enc'] = train[col].map(fq_encode)\n",
    "    test[col+'_fq_enc']  = test[col].map(fq_encode)"
   ]
  },
  {
   "cell_type": "code",
   "execution_count": 27,
   "metadata": {},
   "outputs": [],
   "source": [
    "for feature in ['HighRiskHigherAmount__etymd', 'HighRiskLowerAmount__etymd']:\n",
    "\n",
    "    f1, f2 = feature.split('__')\n",
    "    train[feature] = train[f1].astype(str) + '_' + train[f2].astype(str)\n",
    "    test[feature] = test[f1].astype(str) + '_' + test[f2].astype(str)\n",
    "\n",
    "    le = preprocessing.LabelEncoder()\n",
    "    le.fit(list(train[feature].astype(str).values) + list(test[feature].astype(str).values))\n",
    "    train[feature] = le.transform(list(train[feature].astype(str).values))\n",
    "    test[feature] = le.transform(list(test[feature].astype(str).values))"
   ]
  },
  {
   "cell_type": "code",
   "execution_count": null,
   "metadata": {},
   "outputs": [],
   "source": [
    "#train['txn_time_info'] = train['locdt'].astype(str)+'_'+train['loct_hour'].astype(str)+'_'+train['cano'].astype(str)+'_'+train['bacno'].astype(str)\n",
    "#test['txn_time_info'] = test['locdt'].astype(str)+'_'+test['loct_hour'].astype(str)+'_'+test['cano'].astype(str)+'_'+test['bacno'].astype(str)"
   ]
  },
  {
   "cell_type": "code",
   "execution_count": null,
   "metadata": {},
   "outputs": [],
   "source": [
    "#for feature in ['txn_time_info']:\n",
    "#    train[feature + '_count_full'] = train[feature].map(pd.concat([train[feature], test[feature]], ignore_index=True).value_counts(dropna=False))\n",
    "#    test[feature + '_count_full'] = test[feature].map(pd.concat([train[feature], test[feature]], ignore_index=True).value_counts(dropna=False))"
   ]
  },
  {
   "cell_type": "code",
   "execution_count": 28,
   "metadata": {},
   "outputs": [
    {
     "name": "stdout",
     "output_type": "stream",
     "text": [
      "9 features are going to be dropped for being useless\n"
     ]
    }
   ],
   "source": [
    "# drop noise data\n",
    "cols_to_drop = ['loctm','uid','uid2','uid3','uid4',\n",
    "                'txn_info','txn_info_total','HighRiskCountry','HighRiskCurrency']\n",
    "\n",
    "print('{} features are going to be dropped for being useless'.format(len(cols_to_drop)))\n",
    "\n",
    "train = train.drop(cols_to_drop, axis=1)\n",
    "test = test.drop(cols_to_drop, axis=1)"
   ]
  },
  {
   "cell_type": "code",
   "execution_count": 29,
   "metadata": {},
   "outputs": [],
   "source": [
    "for col in train.columns:\n",
    "    if train[col].dtype == 'object':\n",
    "        lbl = preprocessing.LabelEncoder()\n",
    "        lbl.fit(list(train[col].astype(str).values) + list(test[col].astype(str).values))\n",
    "        train[col] = lbl.transform(list(train[col].astype(str).values))\n",
    "        test[col] = lbl.transform(list(test[col].astype(str).values))"
   ]
  },
  {
   "cell_type": "code",
   "execution_count": 30,
   "metadata": {},
   "outputs": [],
   "source": [
    "SEED = 42\n",
    "seed_everything(SEED)"
   ]
  },
  {
   "cell_type": "code",
   "execution_count": 31,
   "metadata": {},
   "outputs": [
    {
     "name": "stdout",
     "output_type": "stream",
     "text": [
      "Size of y_train data : (1521787,)\n",
      "Size of X_train data : (1521787, 85)\n",
      "Size of test data : (421665, 85)\n"
     ]
    },
    {
     "data": {
      "text/plain": [
       "75"
      ]
     },
     "execution_count": 31,
     "metadata": {},
     "output_type": "execute_result"
    }
   ],
   "source": [
    "y = train.sort_values('locdt')['fraud_ind']\n",
    "X = train.sort_values('locdt').drop(['fraud_ind','locdt'], axis=1)\n",
    "\n",
    "X_test = test.drop('locdt', axis=1)\n",
    "\n",
    "print (\"Size of y_train data : {}\" .format(y.shape))\n",
    "print (\"Size of X_train data : {}\" .format(X.shape))\n",
    "print (\"Size of test data : {}\" .format(X_test.shape))\n",
    "\n",
    "del train, test\n",
    "gc.collect()"
   ]
  },
  {
   "cell_type": "code",
   "execution_count": 32,
   "metadata": {},
   "outputs": [],
   "source": [
    "# untuning params\n",
    "params = {'objective': 'binary',\n",
    "          'boosting_type': 'gbdt',\n",
    "          'metric': 'auc',\n",
    "          'learning_rate': 0.007,\n",
    "          'num_leaves': 2**8,\n",
    "          'max_depth': -1,\n",
    "          'tree_learner':'serial',\n",
    "          'colsample_bytree': 0.5,\n",
    "          'subsample_freq':1,\n",
    "          'subsample':0.7,\n",
    "          'n_estimators':10000,\n",
    "          'min_data_in_leaf': 106,\n",
    "          'max_bin':255,\n",
    "          'verbosity': -1,\n",
    "          'seed': SEED,\n",
    "          'early_stopping_rounds':100,\n",
    "         }"
   ]
  },
  {
   "cell_type": "code",
   "execution_count": 33,
   "metadata": {
    "scrolled": true
   },
   "outputs": [
    {
     "name": "stdout",
     "output_type": "stream",
     "text": [
      "Training until validation scores don't improve for 100 rounds.\n",
      "[200]\ttraining's auc: 0.992434\tvalid_1's auc: 0.9826\n",
      "[400]\ttraining's auc: 0.996772\tvalid_1's auc: 0.984943\n",
      "[600]\ttraining's auc: 0.998683\tvalid_1's auc: 0.986261\n",
      "[800]\ttraining's auc: 0.99932\tvalid_1's auc: 0.987147\n",
      "[1000]\ttraining's auc: 0.999616\tvalid_1's auc: 0.987631\n",
      "[1200]\ttraining's auc: 0.999773\tvalid_1's auc: 0.988069\n",
      "[1400]\ttraining's auc: 0.999865\tvalid_1's auc: 0.988212\n",
      "[1600]\ttraining's auc: 0.999918\tvalid_1's auc: 0.988451\n",
      "[1800]\ttraining's auc: 0.999949\tvalid_1's auc: 0.98865\n",
      "[2000]\ttraining's auc: 0.999968\tvalid_1's auc: 0.988757\n",
      "[2200]\ttraining's auc: 0.99998\tvalid_1's auc: 0.988816\n",
      "Early stopping, best iteration is:\n",
      "[2207]\ttraining's auc: 0.99998\tvalid_1's auc: 0.988833\n",
      "Fold 1 | AUC: 0.9888326861945587\n",
      "F1 score at threshold 0.1 is 0.6892697466467959\n",
      "F1 score at threshold 0.11 is 0.6946381036886804\n",
      "F1 score at threshold 0.12 is 0.6990216271884655\n",
      "F1 score at threshold 0.13 is 0.702172206228736\n",
      "F1 score at threshold 0.14 is 0.7073365231259968\n",
      "F1 score at threshold 0.15 is 0.7095905172413792\n",
      "F1 score at threshold 0.16 is 0.7090884316664396\n",
      "F1 score at threshold 0.17 is 0.7117801408645216\n",
      "F1 score at threshold 0.18 is 0.7129875576681113\n",
      "F1 score at threshold 0.19 is 0.7131344549696028\n",
      "F1 score at threshold 0.2 is 0.7146131805157593\n",
      "F1 score at threshold 0.21 is 0.7149884259259259\n",
      "F1 score at threshold 0.22 is 0.7161648640748319\n",
      "F1 score at threshold 0.23 is 0.7144122858830478\n",
      "F1 score at threshold 0.24 is 0.7128212746991532\n",
      "F1 score at threshold 0.25 is 0.7134940841695372\n",
      "F1 score at threshold 0.26 is 0.7155602600937547\n",
      "F1 score at threshold 0.27 is 0.7136322049405306\n",
      "F1 score at threshold 0.28 is 0.7123791992636908\n",
      "F1 score at threshold 0.29 is 0.7122524752475247\n",
      "F1 score at threshold 0.3 is 0.7119539872532256\n",
      "F1 score at threshold 0.31 is 0.7120500782472614\n",
      "F1 score at threshold 0.32 is 0.7105511811023623\n",
      "F1 score at threshold 0.33 is 0.7098207202919244\n",
      "F1 score at threshold 0.34 is 0.7081538216052338\n",
      "F1 score at threshold 0.35 is 0.7063734146733023\n",
      "F1 score at threshold 0.36 is 0.7056353948005814\n",
      "F1 score at threshold 0.37 is 0.7043718511295303\n",
      "F1 score at threshold 0.38 is 0.7033038927052666\n",
      "F1 score at threshold 0.39 is 0.7009053497942387\n",
      "F1 score at threshold 0.4 is 0.6979821369500496\n",
      "F1 score at threshold 0.41 is 0.6971866156151157\n",
      "F1 score at threshold 0.42 is 0.6950995149690584\n",
      "F1 score at threshold 0.43 is 0.6892483990562859\n",
      "F1 score at threshold 0.44 is 0.6878808395396073\n",
      "F1 score at threshold 0.45 is 0.6855976874681177\n",
      "F1 score at threshold 0.46 is 0.6777796872314831\n",
      "F1 score at threshold 0.47 is 0.6744908526061442\n",
      "F1 score at threshold 0.48 is 0.6725571725571725\n",
      "F1 score at threshold 0.49 is 0.6726893676164003\n",
      "F1 score at threshold 0.5 is 0.670036604497124\n",
      "Best threshold:  0.22\n",
      "Training until validation scores don't improve for 100 rounds.\n",
      "[200]\ttraining's auc: 0.992958\tvalid_1's auc: 0.987331\n",
      "[400]\ttraining's auc: 0.997257\tvalid_1's auc: 0.99001\n",
      "[600]\ttraining's auc: 0.998866\tvalid_1's auc: 0.990612\n",
      "[800]\ttraining's auc: 0.999432\tvalid_1's auc: 0.990944\n",
      "[1000]\ttraining's auc: 0.999689\tvalid_1's auc: 0.99116\n",
      "[1200]\ttraining's auc: 0.999821\tvalid_1's auc: 0.991331\n",
      "[1400]\ttraining's auc: 0.999896\tvalid_1's auc: 0.991436\n",
      "[1600]\ttraining's auc: 0.999938\tvalid_1's auc: 0.991512\n",
      "[1800]\ttraining's auc: 0.999963\tvalid_1's auc: 0.991596\n",
      "[2000]\ttraining's auc: 0.999977\tvalid_1's auc: 0.991637\n",
      "[2200]\ttraining's auc: 0.999985\tvalid_1's auc: 0.991638\n",
      "Early stopping, best iteration is:\n",
      "[2103]\ttraining's auc: 0.999982\tvalid_1's auc: 0.991657\n",
      "Fold 2 | AUC: 0.9916570154198928\n",
      "F1 score at threshold 0.1 is 0.7134572744328841\n",
      "F1 score at threshold 0.11 is 0.7181085996362692\n",
      "F1 score at threshold 0.12 is 0.7225296442687746\n",
      "F1 score at threshold 0.13 is 0.7245161865691607\n",
      "F1 score at threshold 0.14 is 0.7265313519391083\n",
      "F1 score at threshold 0.15 is 0.7292279411764707\n",
      "F1 score at threshold 0.16 is 0.7318887752255184\n",
      "F1 score at threshold 0.17 is 0.7328445196465502\n",
      "F1 score at threshold 0.18 is 0.7358005898582438\n",
      "F1 score at threshold 0.19 is 0.7369836695485111\n",
      "F1 score at threshold 0.2 is 0.7366582573258295\n",
      "F1 score at threshold 0.21 is 0.7394200626959249\n",
      "F1 score at threshold 0.22 is 0.7408431237042157\n",
      "F1 score at threshold 0.23 is 0.7408218087752463\n",
      "F1 score at threshold 0.24 is 0.741104540443019\n",
      "F1 score at threshold 0.25 is 0.7414437152953055\n",
      "F1 score at threshold 0.26 is 0.740311260299054\n",
      "F1 score at threshold 0.27 is 0.7398382307771066\n",
      "F1 score at threshold 0.28 is 0.7396809058157487\n",
      "F1 score at threshold 0.29 is 0.7400662251655629\n",
      "F1 score at threshold 0.3 is 0.7372262773722628\n",
      "F1 score at threshold 0.31 is 0.7364886137055304\n",
      "F1 score at threshold 0.32 is 0.7361756015196285\n",
      "F1 score at threshold 0.33 is 0.7340831918505941\n",
      "F1 score at threshold 0.34 is 0.7326374094588836\n",
      "F1 score at threshold 0.35 is 0.7311320754716981\n",
      "F1 score at threshold 0.36 is 0.7314027344170525\n",
      "F1 score at threshold 0.37 is 0.7324096124702317\n",
      "F1 score at threshold 0.38 is 0.7302209163129828\n",
      "F1 score at threshold 0.39 is 0.7288413235775909\n",
      "F1 score at threshold 0.4 is 0.726594226758863\n",
      "F1 score at threshold 0.41 is 0.7268722466960352\n",
      "F1 score at threshold 0.42 is 0.7260864757270817\n",
      "F1 score at threshold 0.43 is 0.725377107364685\n",
      "F1 score at threshold 0.44 is 0.7230957956953273\n",
      "F1 score at threshold 0.45 is 0.7220354180676979\n",
      "F1 score at threshold 0.46 is 0.7206295671725689\n",
      "F1 score at threshold 0.47 is 0.7188981711447279\n",
      "F1 score at threshold 0.48 is 0.7161641351167535\n",
      "F1 score at threshold 0.49 is 0.7132612407512805\n",
      "F1 score at threshold 0.5 is 0.7119652253488904\n",
      "Best threshold:  0.25\n",
      "Training until validation scores don't improve for 100 rounds.\n",
      "[200]\ttraining's auc: 0.992953\tvalid_1's auc: 0.98484\n",
      "[400]\ttraining's auc: 0.996946\tvalid_1's auc: 0.986669\n",
      "[600]\ttraining's auc: 0.998915\tvalid_1's auc: 0.988109\n",
      "[800]\ttraining's auc: 0.999475\tvalid_1's auc: 0.988522\n",
      "[1000]\ttraining's auc: 0.999714\tvalid_1's auc: 0.9887\n",
      "[1200]\ttraining's auc: 0.999839\tvalid_1's auc: 0.988799\n",
      "[1400]\ttraining's auc: 0.999908\tvalid_1's auc: 0.988836\n",
      "Early stopping, best iteration is:\n",
      "[1352]\ttraining's auc: 0.999895\tvalid_1's auc: 0.98887\n",
      "Fold 3 | AUC: 0.9888695829333709\n",
      "F1 score at threshold 0.1 is 0.6946047678795482\n",
      "F1 score at threshold 0.11 is 0.6989082224496759\n",
      "F1 score at threshold 0.12 is 0.7036521739130435\n",
      "F1 score at threshold 0.13 is 0.705903177272325\n",
      "F1 score at threshold 0.14 is 0.7070761494252873\n",
      "F1 score at threshold 0.15 is 0.7125011397829851\n",
      "F1 score at threshold 0.16 is 0.7129792147806004\n",
      "F1 score at threshold 0.17 is 0.714618901016886\n",
      "F1 score at threshold 0.18 is 0.7165926905279063\n",
      "F1 score at threshold 0.19 is 0.7177966912116285\n",
      "F1 score at threshold 0.2 is 0.7198375870069607\n",
      "F1 score at threshold 0.21 is 0.7192656967093058\n",
      "F1 score at threshold 0.22 is 0.7187376725838265\n",
      "F1 score at threshold 0.23 is 0.7168608704312318\n",
      "F1 score at threshold 0.24 is 0.7172122916248242\n",
      "F1 score at threshold 0.25 is 0.7170726776508642\n",
      "F1 score at threshold 0.26 is 0.7177657731118132\n",
      "F1 score at threshold 0.27 is 0.7177750410509032\n",
      "F1 score at threshold 0.28 is 0.7177260981912145\n",
      "F1 score at threshold 0.29 is 0.7181354697742169\n",
      "F1 score at threshold 0.3 is 0.7169811320754716\n",
      "F1 score at threshold 0.31 is 0.7166226912928761\n",
      "F1 score at threshold 0.32 is 0.7153936045893976\n",
      "F1 score at threshold 0.33 is 0.714239794278367\n",
      "F1 score at threshold 0.34 is 0.7127131448305632\n",
      "F1 score at threshold 0.35 is 0.7096283416648556\n",
      "F1 score at threshold 0.36 is 0.7069757270938114\n",
      "F1 score at threshold 0.37 is 0.7056110684089163\n",
      "F1 score at threshold 0.38 is 0.7026309971258015\n",
      "F1 score at threshold 0.39 is 0.7020426287744226\n",
      "F1 score at threshold 0.4 is 0.7004125320548555\n",
      "F1 score at threshold 0.41 is 0.6988680936904628\n",
      "F1 score at threshold 0.42 is 0.697218781668731\n",
      "F1 score at threshold 0.43 is 0.6963498700418125\n",
      "F1 score at threshold 0.44 is 0.6944885461555909\n",
      "F1 score at threshold 0.45 is 0.6926840368642623\n",
      "F1 score at threshold 0.46 is 0.6902695294655095\n",
      "F1 score at threshold 0.47 is 0.689054441260745\n",
      "F1 score at threshold 0.48 is 0.6887356321839081\n",
      "F1 score at threshold 0.49 is 0.6858197761624553\n",
      "F1 score at threshold 0.5 is 0.6844969318050248\n",
      "Best threshold:  0.2\n"
     ]
    },
    {
     "name": "stdout",
     "output_type": "stream",
     "text": [
      "Training until validation scores don't improve for 100 rounds.\n",
      "[200]\ttraining's auc: 0.992824\tvalid_1's auc: 0.986352\n",
      "[400]\ttraining's auc: 0.997309\tvalid_1's auc: 0.987705\n",
      "[600]\ttraining's auc: 0.998853\tvalid_1's auc: 0.988502\n",
      "[800]\ttraining's auc: 0.999433\tvalid_1's auc: 0.988935\n",
      "[1000]\ttraining's auc: 0.999685\tvalid_1's auc: 0.989202\n",
      "[1200]\ttraining's auc: 0.999819\tvalid_1's auc: 0.989324\n",
      "[1400]\ttraining's auc: 0.999894\tvalid_1's auc: 0.989442\n",
      "[1600]\ttraining's auc: 0.999937\tvalid_1's auc: 0.98945\n",
      "Early stopping, best iteration is:\n",
      "[1665]\ttraining's auc: 0.999947\tvalid_1's auc: 0.989472\n",
      "Fold 4 | AUC: 0.9894724726364929\n",
      "F1 score at threshold 0.1 is 0.6608037132038598\n",
      "F1 score at threshold 0.11 is 0.6635094715852443\n",
      "F1 score at threshold 0.12 is 0.6671746031746032\n",
      "F1 score at threshold 0.13 is 0.6703896103896104\n",
      "F1 score at threshold 0.14 is 0.6714323537198835\n",
      "F1 score at threshold 0.15 is 0.6732859251308199\n",
      "F1 score at threshold 0.16 is 0.6762452107279693\n",
      "F1 score at threshold 0.17 is 0.6783528102392877\n",
      "F1 score at threshold 0.18 is 0.6787776369525419\n",
      "F1 score at threshold 0.19 is 0.6782707946925381\n",
      "F1 score at threshold 0.2 is 0.6795947901591894\n",
      "F1 score at threshold 0.21 is 0.6756756756756758\n",
      "F1 score at threshold 0.22 is 0.6761734997029115\n",
      "F1 score at threshold 0.23 is 0.6746770802042654\n",
      "F1 score at threshold 0.24 is 0.6738569041470455\n",
      "F1 score at threshold 0.25 is 0.6725989567351949\n",
      "F1 score at threshold 0.26 is 0.6740775050177552\n",
      "F1 score at threshold 0.27 is 0.6726960860751598\n",
      "F1 score at threshold 0.28 is 0.6719019946599655\n",
      "F1 score at threshold 0.29 is 0.6700475435816166\n",
      "F1 score at threshold 0.3 is 0.6694333599361533\n",
      "F1 score at threshold 0.31 is 0.6672030897972322\n",
      "F1 score at threshold 0.32 is 0.6678542510121458\n",
      "F1 score at threshold 0.33 is 0.6647087616250611\n",
      "F1 score at threshold 0.34 is 0.6631596251849416\n",
      "F1 score at threshold 0.35 is 0.6614824619457312\n",
      "F1 score at threshold 0.36 is 0.6564273789649415\n",
      "F1 score at threshold 0.37 is 0.6570469798657718\n",
      "F1 score at threshold 0.38 is 0.6570800203011335\n",
      "F1 score at threshold 0.39 is 0.654036525004267\n",
      "F1 score at threshold 0.4 is 0.6499913748490599\n",
      "F1 score at threshold 0.41 is 0.6444328643390654\n",
      "F1 score at threshold 0.42 is 0.6424454148471616\n",
      "F1 score at threshold 0.43 is 0.6399155227032735\n",
      "F1 score at threshold 0.44 is 0.6381171474075383\n",
      "F1 score at threshold 0.45 is 0.6346837242359631\n",
      "F1 score at threshold 0.46 is 0.6296230123280329\n",
      "F1 score at threshold 0.47 is 0.6252252252252253\n",
      "F1 score at threshold 0.48 is 0.6232120224515661\n",
      "F1 score at threshold 0.49 is 0.6200873362445414\n",
      "F1 score at threshold 0.5 is 0.6193004944149423\n",
      "Best threshold:  0.2\n",
      "Training until validation scores don't improve for 100 rounds.\n",
      "[200]\ttraining's auc: 0.993455\tvalid_1's auc: 0.973975\n",
      "[400]\ttraining's auc: 0.997576\tvalid_1's auc: 0.975797\n",
      "[600]\ttraining's auc: 0.998851\tvalid_1's auc: 0.977137\n",
      "[800]\ttraining's auc: 0.999394\tvalid_1's auc: 0.977787\n",
      "[1000]\ttraining's auc: 0.999657\tvalid_1's auc: 0.978246\n",
      "Early stopping, best iteration is:\n",
      "[1099]\ttraining's auc: 0.999737\tvalid_1's auc: 0.978433\n",
      "Fold 5 | AUC: 0.9784331516134357\n",
      "F1 score at threshold 0.1 is 0.5166013071895424\n",
      "F1 score at threshold 0.11 is 0.5271275876065484\n",
      "F1 score at threshold 0.12 is 0.5347144456886899\n",
      "F1 score at threshold 0.13 is 0.5426873459921728\n",
      "F1 score at threshold 0.14 is 0.5516830503425677\n",
      "F1 score at threshold 0.15 is 0.5623268698060943\n",
      "F1 score at threshold 0.16 is 0.5672910436014481\n",
      "F1 score at threshold 0.17 is 0.5705541237113402\n",
      "F1 score at threshold 0.18 is 0.5724673607668154\n",
      "F1 score at threshold 0.19 is 0.5764368784763189\n",
      "F1 score at threshold 0.2 is 0.578304968196665\n",
      "F1 score at threshold 0.21 is 0.5801713586291309\n",
      "F1 score at threshold 0.22 is 0.5850364314910255\n",
      "F1 score at threshold 0.23 is 0.5847488254427178\n",
      "F1 score at threshold 0.24 is 0.5873510540788267\n",
      "F1 score at threshold 0.25 is 0.588453684796733\n",
      "F1 score at threshold 0.26 is 0.5907981220657277\n",
      "F1 score at threshold 0.27 is 0.5927619047619048\n",
      "F1 score at threshold 0.28 is 0.5924499229583975\n",
      "F1 score at threshold 0.29 is 0.5914230019493179\n",
      "F1 score at threshold 0.3 is 0.5929727595736282\n",
      "F1 score at threshold 0.31 is 0.594896331738437\n",
      "F1 score at threshold 0.32 is 0.5949647532729103\n",
      "F1 score at threshold 0.33 is 0.5955284552845528\n",
      "F1 score at threshold 0.34 is 0.5937628231432088\n",
      "F1 score at threshold 0.35 is 0.5933291899730682\n",
      "F1 score at threshold 0.36 is 0.5908333333333333\n",
      "F1 score at threshold 0.37 is 0.5913481730365393\n",
      "F1 score at threshold 0.38 is 0.5913522679101315\n",
      "F1 score at threshold 0.39 is 0.5886373344724477\n",
      "F1 score at threshold 0.4 is 0.5869424692954105\n",
      "F1 score at threshold 0.41 is 0.5831711010166558\n",
      "F1 score at threshold 0.42 is 0.5800261665939818\n",
      "F1 score at threshold 0.43 is 0.5797673908272987\n",
      "F1 score at threshold 0.44 is 0.5801324503311257\n",
      "F1 score at threshold 0.45 is 0.5775804661487237\n",
      "F1 score at threshold 0.46 is 0.5759606791778373\n",
      "F1 score at threshold 0.47 is 0.5720062907211863\n",
      "F1 score at threshold 0.48 is 0.5620322068496257\n",
      "F1 score at threshold 0.49 is 0.55662100456621\n",
      "F1 score at threshold 0.5 is 0.554918596652144\n",
      "Best threshold:  0.33\n",
      "\n",
      "Mean AUC = 0.9874529817595501\n",
      "Out of folds AUC = 0.9880622926583533\n",
      "\n",
      "Mean F1 Score = 0.6481435705436251\n",
      "Wall time: 1h 37min\n"
     ]
    }
   ],
   "source": [
    "%%time\n",
    "\n",
    "NFOLDS = 5\n",
    "#folds = KFold(n_splits=NFOLDS, random_state=47 ,shuffle=True)\n",
    "folds = KFold(n_splits=NFOLDS)\n",
    "columns = X.columns\n",
    "splits = folds.split(X, y)\n",
    "y_preds = np.zeros(X_test.shape[0])\n",
    "y_oof = np.zeros(X.shape[0])\n",
    "auc_score = 0\n",
    "best_threshold = 0\n",
    "F1_score = []\n",
    "\n",
    "feature_importances = pd.DataFrame()\n",
    "feature_importances['feature'] = columns\n",
    "  \n",
    "for fold_n, (train_index, valid_index) in enumerate(splits):\n",
    "    X_train, X_valid = X[columns].iloc[train_index], X[columns].iloc[valid_index]\n",
    "    y_train, y_valid = y.iloc[train_index], y.iloc[valid_index]\n",
    "    \n",
    "    dtrain = lgb.Dataset(X_train, label=y_train)\n",
    "    dvalid = lgb.Dataset(X_valid, label=y_valid)\n",
    "\n",
    "    clf = lgb.train(params, dtrain, 10000, valid_sets = [dtrain, dvalid], verbose_eval=200, early_stopping_rounds=200)\n",
    "    \n",
    "    feature_importances[f'fold_{fold_n + 1}'] = clf.feature_importance()\n",
    "    \n",
    "    y_pred_valid = clf.predict(X_valid)\n",
    "    y_oof[valid_index] = y_pred_valid\n",
    "    print(f\"Fold {fold_n + 1} | AUC: {roc_auc_score(y_valid, y_pred_valid)}\")\n",
    "    \n",
    "    auc_score += roc_auc_score(y_valid, y_pred_valid) / NFOLDS\n",
    "    F1_score.append(f1_score(y_valid.values, y_pred_valid.round()))    \n",
    "    # Optimize f1 score\n",
    "    thresholds = []\n",
    "    for thresh in np.arange(0.1, 0.501, 0.01):\n",
    "        thresh = np.round(thresh, 2)\n",
    "        res = f1_score(y_valid.values, (y_pred_valid > thresh).astype(int))\n",
    "        thresholds.append([thresh, res])\n",
    "        print(\"F1 score at threshold {0} is {1}\".format(thresh, res))\n",
    "        \n",
    "    thresholds.sort(key=lambda x: x[1], reverse=True)\n",
    "    best_thresh = thresholds[0][0]\n",
    "    print(\"Best threshold: \", best_thresh)\n",
    "    \n",
    "    #best_threshold += best_thresh / NFOLDS\n",
    "    y_preds += (clf.predict(X_test)>best_thresh).astype(int) / NFOLDS\n",
    "    \n",
    "    del X_train, X_valid, y_train, y_valid\n",
    "    gc.collect()\n",
    "    \n",
    "print(f\"\\nMean AUC = {auc_score}\")\n",
    "print(f\"Out of folds AUC = {roc_auc_score(y, y_oof)}\")\n",
    "print(f\"\\nMean F1 Score = {np.mean(F1_score)}\")\n",
    "#print(f\"Best Threshold = {best_threshold}\")"
   ]
  },
  {
   "cell_type": "code",
   "execution_count": null,
   "metadata": {},
   "outputs": [],
   "source": [
    "Mean AUC = 0.9880941086500521\n",
    "Out of folds AUC = 0.9886164328277743\n",
    "\n",
    "Mean F1 Score = 0.6491700088804422\n",
    "Best Threshold = 0.24400000000000005\n",
    "-------------------------------------------\n",
    "Mean AUC = 0.9863439641737028\n",
    "Out of folds AUC = 0.9854926269428487\n",
    "\n",
    "Mean F1 Score = 0.6393889254040238\n",
    "Wall time: 45min 57s\n",
    "-------------------------------------------\n",
    "Mean AUC = 0.9872535738726497\n",
    "Out of folds AUC = 0.9877709384782674\n",
    "\n",
    "Mean F1 Score = 0.6492521199805226"
   ]
  },
  {
   "cell_type": "code",
   "execution_count": 34,
   "metadata": {},
   "outputs": [
    {
     "name": "stdout",
     "output_type": "stream",
     "text": [
      "\tSuccessfully loaded sample_submission!\n"
     ]
    }
   ],
   "source": [
    "sub = pd.read_csv('E-Sun_Credit_Card_Fraud_Data/submission_test.csv')\n",
    "print('\\tSuccessfully loaded sample_submission!')\n",
    "\n",
    "sub['fraud_ind'] = (y_preds > 0.5).astype(int)\n",
    "sub.to_csv(\"E-Sun_Credit_Card_Fraud_Detection_submission57.csv\", index=False)"
   ]
  },
  {
   "cell_type": "code",
   "execution_count": 35,
   "metadata": {},
   "outputs": [
    {
     "data": {
      "image/png": "[encoded data removed]",
      "text/plain": [
       "<Figure size 1152x1152 with 1 Axes>"
      ]
     },
     "metadata": {
      "needs_background": "light"
     },
     "output_type": "display_data"
    }
   ],
   "source": [
    "feature_importances['average'] = feature_importances[[f'fold_{fold_n + 1}' for fold_n in range(folds.n_splits)]].mean(axis=1)\n",
    "feature_importances.to_csv('E-Sun_Credit_Card_Fraud_Detection_feature_importances_Kflod16.csv')\n",
    "\n",
    "plt.figure(figsize=(16, 16))\n",
    "sns.barplot(data=feature_importances.sort_values(by='average', ascending=False).head(50), x='average', y='feature');\n",
    "plt.title('50 TOP features importance over {} folds average'.format(folds.n_splits));"
   ]
  },
  {
   "cell_type": "code",
   "execution_count": null,
   "metadata": {},
   "outputs": [],
   "source": [
    "(1/NFOLDS)*(NFOLDS/2)"
   ]
  }
 ],
 "metadata": {
  "kernelspec": {
   "display_name": "Python 3",
   "language": "python",
   "name": "python3"
  },
  "language_info": {
   "codemirror_mode": {
    "name": "ipython",
    "version": 3
   },
   "file_extension": ".py",
   "mimetype": "text/x-python",
   "name": "python",
   "nbconvert_exporter": "python",
   "pygments_lexer": "ipython3",
   "version": "3.7.4"
  }
 },
 "nbformat": 4,
 "nbformat_minor": 2
}
