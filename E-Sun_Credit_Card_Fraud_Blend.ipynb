{
 "cells": [
  {
   "cell_type": "code",
   "execution_count": 1,
   "metadata": {},
   "outputs": [],
   "source": [
    "import numpy as np\n",
    "import pandas as pd"
   ]
  },
  {
   "cell_type": "code",
   "execution_count": 2,
   "metadata": {},
   "outputs": [
    {
     "name": "stdout",
     "output_type": "stream",
     "text": [
      "6575\n",
      "6192\n",
      "5941\n",
      "6358\n",
      "6171\n",
      "5058\n",
      "6108\n",
      "8097\n"
     ]
    }
   ],
   "source": [
    "catboost = pd.read_csv('PostProcess/E-Sun_Credit_Card_Fraud_Detection_submission_catboost_16.csv')\n",
    "print(len(catboost[catboost['fraud_ind']==1]))\n",
    "\n",
    "xgboost = pd.read_csv('PostProcess/E-Sun_Credit_Card_Fraud_Detection_xgboost_7.csv')\n",
    "print(len(xgboost[xgboost['fraud_ind']==1]))\n",
    "\n",
    "lightgbm_kaggle = pd.read_csv('PostProcess/E-Sun_Credit_Card_Fraud_Detection_submission_lightgbm_vote.csv')\n",
    "print(len(lightgbm_kaggle[lightgbm_kaggle['fraud_ind']==1]))\n",
    "\n",
    "lightgbm_jeff = pd.read_csv('PostProcess/E-Sun_Credit_Card_Fraud_Detection_submission_Jeff_672959.csv')\n",
    "print(len(lightgbm_jeff[lightgbm_jeff['fraud_ind']==1]))\n",
    "\n",
    "lightgbm_spw = pd.read_csv('PostProcess/E-Sun_Credit_Card_Fraud_Detection_submission_lightgbm_scale_pos_weight_vote.csv')\n",
    "print(len(lightgbm_spw[lightgbm_spw['fraud_ind']==1]))\n",
    "\n",
    "lightgbm_dae = pd.read_csv('PostProcess/E-Sun_Credit_Card_Fraud_Detection_submission_V.csv')\n",
    "print(len(lightgbm_dae[lightgbm_dae['fraud_ind']==1]))\n",
    "\n",
    "lightgbm_V9 = pd.read_csv('PostProcess/E-Sun_Credit_Card_Fraud_Detection_submission_lightgbm_V9.csv')\n",
    "print(len(lightgbm_V9[lightgbm_V9['fraud_ind']==1]))\n",
    "\n",
    "NN = pd.read_csv('PostProcess/E-Sun_Credit_Card_Fraud_Detection_submission_NN2.csv')\n",
    "NN['fraud_ind'] = (NN.fraud_ind > 0.36).astype(int)\n",
    "print(len(NN[NN['fraud_ind']==1]))"
   ]
  },
  {
   "cell_type": "code",
   "execution_count": 3,
   "metadata": {},
   "outputs": [
    {
     "name": "stdout",
     "output_type": "stream",
     "text": [
      "0    414474\n",
      "3      4647\n",
      "1      1505\n",
      "2      1039\n",
      "Name: fraud_ind, dtype: int64\n",
      "--------------------------------------------------------------\n",
      "0    414474\n",
      "1      7191\n",
      "Name: fraud_ind, dtype: int64\n"
     ]
    }
   ],
   "source": [
    "sub = lightgbm_kaggle.copy()\n",
    "sub.fraud_ind = lightgbm_V9.fraud_ind + lightgbm_jeff.fraud_ind + lightgbm_dae.fraud_ind#*0.5 + lightgbm_spw.fraud_ind*0.5\n",
    "print(sub['fraud_ind'].value_counts())\n",
    "\n",
    "print('--------------------------------------------------------------')\n",
    "sub['fraud_ind'] = np.where(sub['fraud_ind']>=1, 1, 0)\n",
    "print(sub['fraud_ind'].value_counts())"
   ]
  },
  {
   "cell_type": "code",
   "execution_count": 4,
   "metadata": {},
   "outputs": [
    {
     "data": {
      "text/plain": [
       "array([[1.        , 0.82007453, 0.89834971, 0.70218255],\n",
       "       [0.82007453, 1.        , 0.82995266, 0.71703272],\n",
       "       [0.89834971, 0.82995266, 1.        , 0.68025878],\n",
       "       [0.70218255, 0.71703272, 0.68025878, 1.        ]])"
      ]
     },
     "execution_count": 4,
     "metadata": {},
     "output_type": "execute_result"
    }
   ],
   "source": [
    "df = np.array([sub.fraud_ind, catboost.fraud_ind, xgboost.fraud_ind, NN.fraud_ind])\n",
    "\n",
    "np.corrcoef(df)"
   ]
  },
  {
   "cell_type": "code",
   "execution_count": 5,
   "metadata": {},
   "outputs": [],
   "source": [
    "sub.fraud_ind = sub.fraud_ind*0.5 + catboost.fraud_ind*0.15 + xgboost.fraud_ind*0.3 + NN.fraud_ind*0.15"
   ]
  },
  {
   "cell_type": "code",
   "execution_count": 6,
   "metadata": {},
   "outputs": [
    {
     "name": "stdout",
     "output_type": "stream",
     "text": [
      "0.00    411212\n",
      "1.10      4517\n",
      "0.15      2651\n",
      "0.80       766\n",
      "0.95       746\n",
      "0.30       527\n",
      "0.50       474\n",
      "0.65       417\n",
      "0.95       271\n",
      "0.45        53\n",
      "0.60        31\n",
      "Name: fraud_ind, dtype: int64\n"
     ]
    }
   ],
   "source": [
    "print(sub['fraud_ind'].value_counts())"
   ]
  },
  {
   "cell_type": "code",
   "execution_count": 7,
   "metadata": {},
   "outputs": [
    {
     "data": {
      "image/png": "[encoded data removed]",
      "text/plain": [
       "<Figure size 432x288 with 1 Axes>"
      ]
     },
     "metadata": {
      "needs_background": "light"
     },
     "output_type": "display_data"
    }
   ],
   "source": [
    "import matplotlib\n",
    "import matplotlib.pyplot as plt\n",
    "%matplotlib inline\n",
    "\n",
    "plt.hist(sub['fraud_ind'],bins=100)\n",
    "plt.ylim((0,5000))\n",
    "plt.title('PP Submission')\n",
    "plt.show()"
   ]
  },
  {
   "cell_type": "code",
   "execution_count": 8,
   "metadata": {},
   "outputs": [
    {
     "name": "stdout",
     "output_type": "stream",
     "text": [
      "7275\n"
     ]
    }
   ],
   "source": [
    "print(len(sub[sub['fraud_ind']>=.4]))\n",
    "sub['fraud_ind'] = (sub.fraud_ind >= .4).astype(int)"
   ]
  },
  {
   "cell_type": "code",
   "execution_count": null,
   "metadata": {},
   "outputs": [],
   "source": [
    "sub.to_csv('E-Sun_Credit_Card_Fraud_Detection_submission_PostProcess16.csv')"
   ]
  }
 ],
 "metadata": {
  "kernelspec": {
   "display_name": "Python 3",
   "language": "python",
   "name": "python3"
  },
  "language_info": {
   "codemirror_mode": {
    "name": "ipython",
    "version": 3
   },
   "file_extension": ".py",
   "mimetype": "text/x-python",
   "name": "python",
   "nbconvert_exporter": "python",
   "pygments_lexer": "ipython3",
   "version": "3.7.5"
  }
 },
 "nbformat": 4,
 "nbformat_minor": 2
}
